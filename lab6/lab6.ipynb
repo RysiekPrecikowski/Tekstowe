{
 "cells": [
  {
   "cell_type": "code",
   "execution_count": 26,
   "metadata": {
    "collapsed": true
   },
   "outputs": [],
   "source": [
    "class Automata:\n",
    "    class State:\n",
    "        def __init__(self, fail_link=None):\n",
    "            self.transitions = {}\n",
    "            self.fail_link = fail_link\n",
    "\n",
    "    def __init__(self, pattern_list):\n",
    "        self.start = self.State()\n",
    "\n",
    "        for pattern in pattern_list:\n",
    "            state = self.start\n",
    "\n",
    "            for letter in pattern:\n",
    "                if letter not in state.transitions:\n",
    "                    state.transitions[letter] = self.State(fail_link=self.start)\n",
    "                state = state.transitions[letter]\n",
    "\n",
    "        q = list(self.start.transitions.values())\n",
    "\n",
    "        while q:\n",
    "            state = q.pop()\n",
    "\n",
    "            for letter, next_state in state.transitions.items():\n",
    "                fail_link = state.fail_link\n",
    "\n",
    "                while fail_link is not None:\n",
    "                    if letter in fail_link.transitions:\n",
    "                        next_state.fail_link = fail_link.transitions[letter]\n",
    "                        break\n",
    "\n",
    "                    fail_link = fail_link.fail_link\n",
    "\n",
    "                q.append(next_state)\n",
    "\n",
    "\n",
    "    def run(self, text):\n",
    "        state = self.start\n",
    "\n",
    "        for letter in text:\n",
    "            if state is None:\n",
    "                state = self.start\n",
    "\n",
    "            if letter in state.transitions:\n",
    "                state = state.transitions[letter]\n",
    "            else:\n",
    "                while state is not None:\n",
    "                    if letter in state.transitions:\n",
    "                        state = state.transitions[letter]\n",
    "                        break\n",
    "                    state = state.fail_link\n",
    "\n",
    "        return len(state.transitions) == 0\n",
    "patterns = [\"abc\", \"aab\", \"cba\"]\n",
    "\n",
    "automata = Automata(patterns)"
   ]
  },
  {
   "cell_type": "code",
   "execution_count": 27,
   "outputs": [
    {
     "data": {
      "text/plain": "True"
     },
     "execution_count": 27,
     "metadata": {},
     "output_type": "execute_result"
    }
   ],
   "source": [
    "automata.run(\"aaabc\")"
   ],
   "metadata": {
    "collapsed": false,
    "pycharm": {
     "name": "#%%\n"
    }
   }
  },
  {
   "cell_type": "code",
   "execution_count": 28,
   "outputs": [
    {
     "data": {
      "text/plain": "True"
     },
     "execution_count": 28,
     "metadata": {},
     "output_type": "execute_result"
    }
   ],
   "source": [
    "automata.run(\"baaabc\")"
   ],
   "metadata": {
    "collapsed": false,
    "pycharm": {
     "name": "#%%\n"
    }
   }
  },
  {
   "cell_type": "code",
   "execution_count": 29,
   "outputs": [
    {
     "data": {
      "text/plain": "False"
     },
     "execution_count": 29,
     "metadata": {},
     "output_type": "execute_result"
    }
   ],
   "source": [
    "automata.run(\"abaa\")"
   ],
   "metadata": {
    "collapsed": false,
    "pycharm": {
     "name": "#%%\n"
    }
   }
  },
  {
   "cell_type": "code",
   "execution_count": null,
   "outputs": [],
   "source": [],
   "metadata": {
    "collapsed": false,
    "pycharm": {
     "name": "#%%\n"
    }
   }
  }
 ],
 "metadata": {
  "kernelspec": {
   "display_name": "Python 3",
   "language": "python",
   "name": "python3"
  },
  "language_info": {
   "codemirror_mode": {
    "name": "ipython",
    "version": 2
   },
   "file_extension": ".py",
   "mimetype": "text/x-python",
   "name": "python",
   "nbconvert_exporter": "python",
   "pygments_lexer": "ipython2",
   "version": "2.7.6"
  }
 },
 "nbformat": 4,
 "nbformat_minor": 0
}