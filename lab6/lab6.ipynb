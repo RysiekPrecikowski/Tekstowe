{
 "cells": [
  {
   "cell_type": "markdown",
   "metadata": {
    "pycharm": {
     "name": "#%% md\n"
    }
   },
   "source": [
    "Automat zapisuje miejsce, w którym kończy się dany wzór."
   ]
  },
  {
   "cell_type": "code",
   "execution_count": 1,
   "metadata": {
    "collapsed": true
   },
   "outputs": [],
   "source": [
    "import networkx as nx\n",
    "from networkx.drawing.nx_agraph import graphviz_layout\n",
    "import matplotlib.pyplot as plt\n",
    "from pprint import pprint\n",
    "\n",
    "import random, string\n",
    "from timeit import timeit\n",
    "def print_arr(arr):\n",
    "    for l in arr:\n",
    "        for c in l:\n",
    "            if c is None:\n",
    "                print(\"{:^4}\".format(-1), end=\"\")\n",
    "            else:\n",
    "                print(\"{:^4}\".format(c), end=\"\")\n",
    "        print()\n",
    "    print()\n",
    "\n",
    "class Automata:\n",
    "    empty_str = \"$\"\n",
    "    empty_any = -1\n",
    "    class State:\n",
    "        def __init__(self, fail_link=None):\n",
    "            self.transitions = {}\n",
    "            self.fail_link = fail_link\n",
    "            self.accepting = False\n",
    "            self.pattern_number = None\n",
    "            self.id = 0\n",
    "\n",
    "        def __repr__(self):\n",
    "            res = \"ID {} TRANSITIONS:\\n\".format(self.id)\n",
    "            res += \"{\"\n",
    "\n",
    "            for i, x in enumerate(self.transitions.items()):\n",
    "                k, v = x\n",
    "                res += \"{}: {}\".format(k, v.id)\n",
    "\n",
    "                if i < len(self.transitions) - 1:\n",
    "                    res+= \", \"\n",
    "\n",
    "\n",
    "            res += \"}\"\n",
    "\n",
    "            res += \"\\nFAIL: {}\\n\".format(self.fail_link.id if self.fail_link else None)\n",
    "            return res\n",
    "\n",
    "        def __str__(self):\n",
    "            return \"{} {} {}\".format(self.id, self.transitions, self.fail_link)\n",
    "\n",
    "    def __init__(self, pattern_list, stop=False):\n",
    "        self.start = self.State()\n",
    "        # print(\"PATTERN\")\n",
    "        # print_arr(pattern_list)\n",
    "        if type(pattern_list[0]) == list:\n",
    "            pattern_list = [tuple(v) for v in pattern_list]\n",
    "            # print(\"TO TUPLE\")\n",
    "            # print_arr(pattern_list)\n",
    "\n",
    "        pattern_list_dict = {v : i for i, v in enumerate(pattern_list)}\n",
    "        # print(\"PATTERN DICT\")\n",
    "        # pprint(pattern_list_dict)\n",
    "        self.pattern = [[pattern_list_dict[v] for v in pattern_list]]\n",
    "\n",
    "        id = 1\n",
    "\n",
    "        for number, pattern in enumerate(pattern_list):\n",
    "            state = self.start\n",
    "\n",
    "            for letter in pattern:\n",
    "                if letter not in state.transitions:\n",
    "                    state.transitions[letter] = self.State(fail_link=self.start)\n",
    "                    state.transitions[letter].id = id\n",
    "                    id+=1\n",
    "                state = state.transitions[letter]\n",
    "\n",
    "\n",
    "            state.accepting=True\n",
    "            state.pattern_number = number\n",
    "\n",
    "        q = list(self.start.transitions.values())\n",
    "\n",
    "        while q:\n",
    "            state = q.pop(0)\n",
    "\n",
    "            for letter, next_state in state.transitions.items():\n",
    "                fail_link = state.fail_link\n",
    "\n",
    "                while fail_link is not None:\n",
    "                    if letter in fail_link.transitions:\n",
    "                        next_state.fail_link = fail_link.transitions[letter]\n",
    "                        break\n",
    "\n",
    "                    fail_link = fail_link.fail_link\n",
    "\n",
    "                q.append(next_state)\n",
    "\n",
    "        if not stop:\n",
    "            self.col_automata = Automata(self.pattern, stop = True)\n",
    "\n",
    "    def run2d(self, text_2d, stop=False):\n",
    "        max_len = max(len(l) for l in text_2d)\n",
    "        matched = [None] * len(text_2d)\n",
    "\n",
    "        # print_arr(text_2d)\n",
    "        # for l in self.pattern:\n",
    "        #     for c in l:\n",
    "        #         if c is None:\n",
    "        #             print(\"{:^4}\".format(-1), end=\"\")\n",
    "        #         else:\n",
    "        #             print(\"{:^4}\".format(c), end=\"\")\n",
    "        #     print()\n",
    "        for i, col in enumerate(text_2d):\n",
    "            if len(col) < max_len:\n",
    "                if type(col) == str:\n",
    "                    col += self.empty_str*(max_len - len(col))\n",
    "                elif type(col) == list:\n",
    "                    col += [self.empty_any]*(max_len - len(col))\n",
    "            m = self.run(col)\n",
    "\n",
    "            matched[i] = m\n",
    "        if not stop:\n",
    "            # print_arr(matched)\n",
    "            matched = self.col_automata.run2d(list(map(list, zip(*matched))), True)\n",
    "            matches = []\n",
    "\n",
    "            for i in range(len(matched)):\n",
    "                for j in range(len(matched[i])):\n",
    "                    if matched[i][j] in self.col_automata.pattern[0]:\n",
    "                        matches.append((j, i))\n",
    "\n",
    "            return matches\n",
    "\n",
    "        return matched\n",
    "    def run(self, text):\n",
    "        # for c in text:\n",
    "        #     print(\"{:^4}\".format(c), end=\"\")\n",
    "        # print()\n",
    "        state = self.start\n",
    "\n",
    "        end_is_accepting = [-1] * len(text)\n",
    "\n",
    "        for i, letter in enumerate(text):\n",
    "            # print(letter, state)\n",
    "            # print(letter)\n",
    "            # print(state.__repr__())\n",
    "            if letter in state.transitions:\n",
    "                state = state.transitions[letter]\n",
    "            else:\n",
    "                # print(\"FAIL LINK\")\n",
    "                while state is not None:\n",
    "                    # print(\"     {}\".format(state.id))\n",
    "                    if letter in state.transitions:\n",
    "                        state = state.transitions[letter]\n",
    "                        break\n",
    "                    state = state.fail_link\n",
    "\n",
    "            if state is None:\n",
    "                state = self.start\n",
    "\n",
    "            if state.accepting is True:\n",
    "                # print(\"ACCEPTING\")\n",
    "                end_is_accepting[i] = state.pattern_number\n",
    "\n",
    "\n",
    "        return end_is_accepting\n",
    "\n",
    "    def visualize(self, figsize=(15,15)):\n",
    "        plt.figure(figsize=figsize)\n",
    "        G = nx.DiGraph()\n",
    "\n",
    "        q = []\n",
    "        q.append(self.start)\n",
    "        while(q):\n",
    "            node = q.pop()\n",
    "\n",
    "            G.add_node(node.id, label=node.id)\n",
    "\n",
    "\n",
    "            for label, child in node.transitions.items():\n",
    "                G.add_edge(node.id, child.id, label = str(label))\n",
    "                q.append(child)\n",
    "\n",
    "        pos = graphviz_layout(G, prog='dot')\n",
    "\n",
    "        q=[self.start]\n",
    "        while(q):\n",
    "            node = q.pop()\n",
    "            G.add_edge(node.id, node.fail_link.id, label=\"F\") if node.fail_link else None\n",
    "\n",
    "            for label, child in node.transitions.items():\n",
    "                q.append(child)\n",
    "\n",
    "\n",
    "        labels_egdes = {(u, v) : l['label'] for u, v, l in G.edges(data = True)}\n",
    "        labels_nodes = {u : l['label'] for u, l in G.nodes(data=True)}\n",
    "\n",
    "        nx.draw_networkx_nodes(G, pos)\n",
    "        nx.draw_networkx_edges(G, pos, arrows=True) #, connectionstyle='arc3, rad = 0.1'\n",
    "        nx.draw_networkx_edge_labels(G, pos, labels_egdes, font_size = 12, label_pos=0.3)\n",
    "        nx.draw_networkx_labels(G, pos, labels_nodes)\n",
    "\n",
    "        plt.show()"
   ]
  },
  {
   "cell_type": "code",
   "execution_count": 2,
   "metadata": {
    "pycharm": {
     "name": "#%%\n"
    }
   },
   "outputs": [
    {
     "data": {
      "image/png": "[encoded data removed]",
      "text/plain": [
       "<Figure size 1080x1080 with 1 Axes>"
      ]
     },
     "metadata": {},
     "output_type": "display_data"
    }
   ],
   "source": [
    "patterns = [\"abc\", \"aab\", \"cba\"]\n",
    "\n",
    "automata = Automata(patterns)\n",
    "automata.visualize()"
   ]
  },
  {
   "cell_type": "code",
   "execution_count": 3,
   "metadata": {
    "pycharm": {
     "name": "#%%\n"
    }
   },
   "outputs": [
    {
     "data": {
      "text/plain": [
       "[-1, -1, -1, 1, 0, -1]"
      ]
     },
     "execution_count": 3,
     "metadata": {},
     "output_type": "execute_result"
    }
   ],
   "source": [
    "automata.run(\"aaabca\")"
   ]
  },
  {
   "cell_type": "code",
   "execution_count": 4,
   "metadata": {
    "pycharm": {
     "name": "#%%\n"
    }
   },
   "outputs": [
    {
     "data": {
      "text/plain": [
       "[-1, -1, -1, -1, 1, 0]"
      ]
     },
     "execution_count": 4,
     "metadata": {},
     "output_type": "execute_result"
    }
   ],
   "source": [
    "automata.run(\"baaabc\")"
   ]
  },
  {
   "cell_type": "code",
   "execution_count": 5,
   "metadata": {
    "pycharm": {
     "name": "#%%\n"
    }
   },
   "outputs": [
    {
     "data": {
      "text/plain": [
       "[-1, -1, -1, -1]"
      ]
     },
     "execution_count": 5,
     "metadata": {},
     "output_type": "execute_result"
    }
   ],
   "source": [
    "automata.run(\"abaa\")"
   ]
  },
  {
   "cell_type": "code",
   "execution_count": 6,
   "metadata": {
    "pycharm": {
     "name": "#%%\n"
    }
   },
   "outputs": [
    {
     "data": {
      "text/plain": [
       "[-1, -1, -1]"
      ]
     },
     "execution_count": 6,
     "metadata": {},
     "output_type": "execute_result"
    }
   ],
   "source": [
    "automata.run(\"bca\")"
   ]
  },
  {
   "cell_type": "code",
   "execution_count": 7,
   "metadata": {
    "pycharm": {
     "name": "#%%\n"
    }
   },
   "outputs": [
    {
     "data": {
      "text/plain": [
       "[(2, 0)]"
      ]
     },
     "execution_count": 7,
     "metadata": {},
     "output_type": "execute_result"
    }
   ],
   "source": [
    "test_text = [\"abbbdsa\",\n",
    "             \"cdab\",\n",
    "             \"cdcddd\"]\n",
    "test_pattern = [\"c\", \"c\"]\n",
    "\n",
    "automata2d = Automata(test_pattern)\n",
    "automata2d.run2d(test_text)"
   ]
  },
  {
   "cell_type": "code",
   "execution_count": 8,
   "metadata": {
    "pycharm": {
     "name": "#%%\n"
    }
   },
   "outputs": [
    {
     "name": "stdout",
     "output_type": "stream",
     "text": [
      "\n",
      "'\n",
      "' --> 1\n",
      "' ' --> 158\n",
      "'\"' --> 0\n",
      "'(' --> 0\n",
      "')' --> 0\n",
      "',' --> 0\n",
      "'-' --> 0\n",
      "'.' --> 0\n",
      "'0' --> 0\n",
      "'1' --> 0\n",
      "'3' --> 0\n",
      "'5' --> 0\n",
      "'6' --> 0\n",
      "'7' --> 0\n",
      "':' --> 0\n",
      "';' --> 0\n",
      "'A' --> 0\n",
      "'B' --> 0\n",
      "'C' --> 0\n",
      "'D' --> 0\n",
      "'E' --> 0\n",
      "'F' --> 0\n",
      "'G' --> 0\n",
      "'I' --> 0\n",
      "'L' --> 0\n",
      "'M' --> 0\n",
      "'N' --> 0\n",
      "'O' --> 0\n",
      "'P' --> 0\n",
      "'Q' --> 0\n",
      "'R' --> 0\n",
      "'S' --> 0\n",
      "'T' --> 0\n",
      "'U' --> 0\n",
      "'V' --> 0\n",
      "'W' --> 0\n",
      "'X' --> 0\n",
      "'a' --> 28\n",
      "'b' --> 0\n",
      "'c' --> 6\n",
      "'d' --> 1\n",
      "'e' --> 48\n",
      "'f' --> 2\n",
      "'g' --> 0\n",
      "'h' --> 4\n",
      "'i' --> 13\n",
      "'j' --> 0\n",
      "'k' --> 0\n",
      "'l' --> 5\n",
      "'m' --> 5\n",
      "'n' --> 15\n",
      "'o' --> 21\n",
      "'p' --> 2\n",
      "'q' --> 0\n",
      "'r' --> 21\n",
      "'s' --> 19\n",
      "'t' --> 41\n",
      "'u' --> 0\n",
      "'v' --> 0\n",
      "'w' --> 2\n",
      "'x' --> 1\n",
      "'y' --> 1\n",
      "'z' --> 0\n"
     ]
    }
   ],
   "source": [
    "f = open('haystack.txt', 'r')\n",
    "text = f.readlines()\n",
    "# pprint(text)\n",
    "letters=set()\n",
    "for l in text:\n",
    "    for c in l:\n",
    "        letters.add(c)\n",
    "print(f.read())\n",
    "for letter in sorted(letters):\n",
    "    automaton = Automata([letter, letter])\n",
    "    res = automaton.run2d(text)\n",
    "    print(\"'{:1}' --> {}\".format(letter, len(res)))"
   ]
  },
  {
   "cell_type": "code",
   "execution_count": 9,
   "metadata": {
    "pycharm": {
     "name": "#%%\n"
    }
   },
   "outputs": [
    {
     "name": "stdout",
     "output_type": "stream",
     "text": [
      "'th' found: []\n",
      "'t h' found: [(38, 2)]\n"
     ]
    }
   ],
   "source": [
    "automaton = Automata([\"th\", \"th\"])\n",
    "print(\"'th' found:\", automaton.run2d(text))\n",
    "\n",
    "automaton = Automata([\"t h\", \"t h\"])\n",
    "print(\"'t h' found:\", automaton.run2d(text))"
   ]
  },
  {
   "cell_type": "code",
   "execution_count": 10,
   "metadata": {
    "pycharm": {
     "name": "#%%\n"
    }
   },
   "outputs": [],
   "source": [
    "import cv2\n",
    "import matplotlib.pyplot as plt\n",
    "\n",
    "haystack_img = cv2.imread(\"haystack.png\", cv2.IMREAD_GRAYSCALE)\n",
    "\n",
    "haystack_img = cv2.threshold(haystack_img, 127, 255, cv2.THRESH_BINARY)[-1]"
   ]
  },
  {
   "cell_type": "code",
   "execution_count": 11,
   "metadata": {
    "pycharm": {
     "name": "#%%\n"
    }
   },
   "outputs": [
    {
     "data": {
      "image/png": "[encoded data removed]",
      "text/plain": [
       "<Figure size 432x288 with 1 Axes>"
      ]
     },
     "metadata": {
      "needs_background": "light"
     },
     "output_type": "display_data"
    },
    {
     "name": "stdout",
     "output_type": "stream",
     "text": [
      "found in image 5\n",
      "found in text  5\n"
     ]
    }
   ],
   "source": [
    "test_pattern_img = haystack_img[474:491,185:283]\n",
    "\n",
    "plt.imshow(test_pattern_img, cmap='Greys')\n",
    "plt.show()\n",
    "\n",
    "pattern_automata_img = Automata(test_pattern_img.tolist())\n",
    "pattern_automata_text = Automata([\"p a t t e r n\"])\n",
    "\n",
    "print(\"found in image\", len(pattern_automata_img.run2d(haystack_img)))\n",
    "print(\"found in text \", len(pattern_automata_text.run2d(text)))\n"
   ]
  },
  {
   "cell_type": "code",
   "execution_count": 12,
   "metadata": {
    "pycharm": {
     "name": "#%%\n"
    }
   },
   "outputs": [
    {
     "name": "stdout",
     "output_type": "stream",
     "text": [
      "---\n",
      "Checking letter w\n"
     ]
    },
    {
     "data": {
      "image/png": "[encoded data removed]",
      "text/plain": [
       "<Figure size 432x288 with 1 Axes>"
      ]
     },
     "metadata": {
      "needs_background": "light"
     },
     "output_type": "display_data"
    },
    {
     "name": "stdout",
     "output_type": "stream",
     "text": [
      "found in image 38\n",
      "found in text  38\n",
      "AUTOMATA BUILDING TIME\n",
      "0.010334424001484876\n",
      "n = 1 searching time\n",
      "1.3171174790004443\n",
      "n = 2 searching time\n",
      "1.2968820539972512\n",
      "n = 4 searching time\n",
      "2.269211038001231\n",
      "n = 8 searching time\n",
      "4.724933269000758\n",
      "---\n",
      "Checking letter x\n"
     ]
    },
    {
     "data": {
      "image/png": "[encoded data removed]",
      "text/plain": [
       "<Figure size 432x288 with 1 Axes>"
      ]
     },
     "metadata": {
      "needs_background": "light"
     },
     "output_type": "display_data"
    },
    {
     "name": "stdout",
     "output_type": "stream",
     "text": [
      "found in image 57\n",
      "found in text  57\n",
      "AUTOMATA BUILDING TIME\n",
      "0.006284685001446633\n",
      "n = 1 searching time\n",
      "1.352753962000861\n",
      "n = 2 searching time\n",
      "1.3325507379995543\n",
      "n = 4 searching time\n",
      "2.313378807997651\n",
      "n = 8 searching time\n",
      "4.8022517030003655\n",
      "---\n",
      "Checking letter h\n"
     ]
    },
    {
     "data": {
      "image/png": "[encoded data removed]",
      "text/plain": [
       "<Figure size 432x288 with 1 Axes>"
      ]
     },
     "metadata": {
      "needs_background": "light"
     },
     "output_type": "display_data"
    },
    {
     "name": "stdout",
     "output_type": "stream",
     "text": [
      "found in image 187\n",
      "found in text  187\n",
      "AUTOMATA BUILDING TIME\n",
      "0.004978556997230044\n",
      "n = 1 searching time\n",
      "1.2534180510010628\n",
      "n = 2 searching time\n",
      "1.2222902409994276\n",
      "n = 4 searching time\n",
      "2.162457970000105\n",
      "n = 8 searching time\n",
      "4.518202747000032\n"
     ]
    }
   ],
   "source": [
    "letters_postions = {\n",
    "    'w': ((59, 69), (49, 62)),\n",
    "    'x': ((59, 69), (136, 145)),\n",
    "    'h': ((143, 157), (110, 118)),\n",
    "}\n",
    "\n",
    "def time_this(n, automata):\n",
    "    global haystack_img\n",
    "\n",
    "    for i in range(n):\n",
    "        f, t = int((i / n) * len(haystack_img)), int((i+1 / n) * len(haystack_img))\n",
    "\n",
    "        automata.run2d(haystack_img[f:t].tolist())\n",
    "\n",
    "for letter, ((y0, y1), (x0, x1)) in letters_postions.items():\n",
    "    print(\"---\")\n",
    "    print(\"Checking letter {}\".format(letter))\n",
    "    letter_img = haystack_img[y0:y1, x0:x1]\n",
    "    plt.imshow(letter_img, cmap='Greys')\n",
    "    plt.show()\n",
    "\n",
    "    automata_img = Automata(letter_img.tolist())\n",
    "    print(\"found in image\", len(automata_img.run2d(haystack_img.tolist())))\n",
    "    automata_text = Automata([letter])\n",
    "    print(\"found in text \", len(automata_text.run2d(text)))\n",
    "\n",
    "    print(\"AUTOMATA BUILDING TIME\")\n",
    "\n",
    "    print(timeit(lambda : Automata(letter_img.tolist()), number=100))\n",
    "\n",
    "    for i in range(4):\n",
    "        n = 2 ** i\n",
    "\n",
    "        print(\"n = {} searching time\".format(n))\n",
    "        print(timeit(lambda : time_this(n, automata_img), number=2))\n"
   ]
  },
  {
   "cell_type": "code",
   "execution_count": 14,
   "metadata": {
    "pycharm": {
     "name": "#%%\n"
    }
   },
   "outputs": [],
   "source": [
    "def random_pattern(w, h):\n",
    "    return [''.join(random.choices(string.ascii_uppercase + string.digits, k=w)) for _ in range(h)]\n",
    "\n",
    "\n",
    "n = 30\n",
    "build_times = [None] * n\n",
    "run_times = [None] * n\n",
    "xs = [None] * n\n",
    "for i in range(1, n + 1):\n",
    "    n = i * 2\n",
    "    xs[i-1] = n\n",
    "    pattern = random_pattern(n, n)\n",
    "\n",
    "    automata = Automata(pattern)\n",
    "    \n",
    "    build = lambda : Automata(pattern)\n",
    "    run = lambda : automata.run(pattern)\n",
    "\n",
    "    build_time = timeit(build, number=100)\n",
    "    run_time = timeit(run, number=100)\n",
    "\n",
    "    build_times[i-1], run_times[i-1] = build_time, run_time\n",
    "\n",
    "    # print(\"n = {}\".format(i))\n",
    "    # print(\"{}\".format(build_time))\n",
    "    # print(\"{}\".format(run_time))\n",
    "    #\n",
    "    # print(\"\")\n"
   ]
  },
  {
   "cell_type": "code",
   "execution_count": 15,
   "metadata": {
    "pycharm": {
     "name": "#%%\n"
    }
   },
   "outputs": [
    {
     "data": {
      "image/png": "[encoded data removed]",
      "text/plain": [
       "<Figure size 432x288 with 1 Axes>"
      ]
     },
     "metadata": {
      "needs_background": "light"
     },
     "output_type": "display_data"
    },
    {
     "data": {
      "image/png": "[encoded data removed]",
      "text/plain": [
       "<Figure size 432x288 with 1 Axes>"
      ]
     },
     "metadata": {
      "needs_background": "light"
     },
     "output_type": "display_data"
    }
   ],
   "source": [
    "plt.plot(xs, build_times, label=\"build time\")\n",
    "plt.plot(xs, run_times, label=\"run time\")\n",
    "plt.legend()\n",
    "plt.show()\n",
    "\n",
    "plt.plot(xs, run_times, label=\"run time\")\n",
    "plt.legend()\n",
    "plt.show()\n",
    "\n"
   ]
  }
 ],
 "metadata": {
  "kernelspec": {
   "display_name": "Python 3",
   "language": "python",
   "name": "python3"
  },
  "language_info": {
   "codemirror_mode": {
    "name": "ipython",
    "version": 3
   },
   "file_extension": ".py",
   "mimetype": "text/x-python",
   "name": "python",
   "nbconvert_exporter": "python",
   "pygments_lexer": "ipython3",
   "version": "3.8.6"
  }
 },
 "nbformat": 4,
 "nbformat_minor": 1
}