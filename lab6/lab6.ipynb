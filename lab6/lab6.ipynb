{
 "cells": [
  {
   "cell_type": "markdown",
   "source": [
    "Automat zapisuje miejsce, w którym kończy się dany wzór."
   ],
   "metadata": {
    "collapsed": false,
    "pycharm": {
     "name": "#%% md\n"
    }
   }
  },
  {
   "cell_type": "code",
   "execution_count": 486,
   "metadata": {
    "collapsed": true
   },
   "outputs": [
    {
     "data": {
      "text/plain": "<Figure size 432x288 with 1 Axes>",
      "image/png": "[encoded data removed]"
     },
     "metadata": {
      "needs_background": "light"
     },
     "output_type": "display_data"
    },
    {
     "name": "stdout",
     "output_type": "stream",
     "text": [
      "255 255 255  0   0   0   0  255 255 \n",
      "255  0   0   0   0   0   0   0  255 \n",
      "255  0   0  255 255 255 255  0   0  \n",
      " 0   0  255 255 255 255 255  0   0  \n",
      " 0   0   0   0   0   0   0   0   0  \n",
      " 0   0   0   0   0   0   0   0   0  \n",
      " 0   0  255 255 255 255 255 255 255 \n",
      "255  0   0  255 255 255 255 255  0  \n",
      "255  0   0   0   0   0   0   0   0  \n",
      "255 255 255  0   0   0   0   0  255 \n",
      "\n",
      "[(255, 255, 255, 0, 0, 0, 0, 255, 255),\n",
      " (255, 0, 0, 0, 0, 0, 0, 0, 255),\n",
      " (255, 0, 0, 255, 255, 255, 255, 0, 0),\n",
      " (0, 0, 255, 255, 255, 255, 255, 0, 0),\n",
      " (0, 0, 0, 0, 0, 0, 0, 0, 0),\n",
      " (0, 0, 0, 0, 0, 0, 0, 0, 0),\n",
      " (0, 0, 255, 255, 255, 255, 255, 255, 255),\n",
      " (255, 0, 0, 255, 255, 255, 255, 255, 0),\n",
      " (255, 0, 0, 0, 0, 0, 0, 0, 0),\n",
      " (255, 255, 255, 0, 0, 0, 0, 0, 255)]\n",
      "{(0, 0, 0, 0, 0, 0, 0, 0, 0): 5,\n",
      " (0, 0, 255, 255, 255, 255, 255, 0, 0): 3,\n",
      " (0, 0, 255, 255, 255, 255, 255, 255, 255): 6,\n",
      " (255, 0, 0, 0, 0, 0, 0, 0, 0): 8,\n",
      " (255, 0, 0, 0, 0, 0, 0, 0, 255): 1,\n",
      " (255, 0, 0, 255, 255, 255, 255, 0, 0): 2,\n",
      " (255, 0, 0, 255, 255, 255, 255, 255, 0): 7,\n",
      " (255, 255, 255, 0, 0, 0, 0, 0, 255): 9,\n",
      " (255, 255, 255, 0, 0, 0, 0, 255, 255): 0}\n",
      " 0   1   2   3   5   5   6   7   8   9  \n",
      "\n",
      "[(0, 1, 2, 3, 5, 5, 6, 7, 8, 9)]\n",
      "{(0, 1, 2, 3, 5, 5, 6, 7, 8, 9): 0}\n",
      "255 255 255  0   0   0   0  255 255 \n",
      "255  0   0   0   0   0   0   0  255 \n",
      "255  0   0  255 255 255 255  0   0  \n",
      " 0   0  255 255 255 255 255  0   0  \n",
      " 0   0   0   0   0   0   0   0   0  \n",
      " 0   0   0   0   0   0   0   0   0  \n",
      " 0   0  255 255 255 255 255 255 255 \n",
      "255  0   0  255 255 255 255 255  0  \n",
      "255  0   0   0   0   0   0   0   0  \n",
      "255 255 255  0   0   0   0   0  255 \n",
      "\n",
      "255 255 255 255 255 255 255 255 255 255 255 255 255 255 255 \n",
      "255 255 255 255 255 255 255 255 255 255 255 255 255 255 255 \n",
      "255 255 255 255 255 255 255 255 255 255 255 255 255 255 255 \n",
      "255 255 255 255 255 255 255  0   0   0   0  255 255 255 255 \n",
      " 0  255 255 255 255  0   0   0   0   0   0   0  255 255 255 \n",
      " 0   0  255 255 255  0   0  255 255 255 255  0   0  255 255 \n",
      " 0   0  255 255  0   0  255 255 255 255 255  0   0  255 255 \n",
      " 0   0  255 255  0   0   0   0   0   0   0   0   0  255 255 \n",
      " 0   0  255 255  0   0   0   0   0   0   0   0   0  255 255 \n",
      " 0   0  255 255  0   0  255 255 255 255 255 255 255 255 255 \n",
      " 0   0  255 255 255  0   0  255 255 255 255 255  0  255 255 \n",
      " 0   0  255 255 255  0   0   0   0   0   0   0   0  255 255 \n",
      " 0   0  255 255 255 255 255  0   0   0   0   0  255 255 255 \n",
      "255 255 255 255 255 255 255 255 255 255 255 255 255 255 255 \n",
      "\n",
      " 0   0  255 255 255 255 255  0   0   0   0   0  255 255 255 \n",
      "0 {255: <__main__.Automata.State object at 0x7f7df18545b0>, 0: <__main__.Automata.State object at 0x7f7df1790670>}\n",
      "0 {0: <__main__.Automata.State object at 0x7f7df1790760>}\n",
      "255 {255: <__main__.Automata.State object at 0x7f7df1790e20>, 0: <__main__.Automata.State object at 0x7f7df17909a0>}\n",
      "255 {255: <__main__.Automata.State object at 0x7f7df1790430>}\n",
      "255 {255: <__main__.Automata.State object at 0x7f7df1790dc0>}\n",
      "255 {255: <__main__.Automata.State object at 0x7f7df17902e0>}\n",
      "255 {255: <__main__.Automata.State object at 0x7f7df1790820>}\n",
      "0 {0: <__main__.Automata.State object at 0x7f7df1790400>, 255: <__main__.Automata.State object at 0x7f7df5a25f40>}\n",
      "0 {0: <__main__.Automata.State object at 0x7f7df17906a0>}\n",
      "ACCEPTING\n",
      "0 {}\n",
      "FAIL LINK\n",
      "0 {0: <__main__.Automata.State object at 0x7f7df17906d0>}\n",
      "0 {0: <__main__.Automata.State object at 0x7f7df1790160>}\n",
      "255 {0: <__main__.Automata.State object at 0x7f7df1790610>}\n",
      "FAIL LINK\n",
      "255 {255: <__main__.Automata.State object at 0x7f7df1790430>}\n",
      "255 {255: <__main__.Automata.State object at 0x7f7df1790dc0>}\n",
      "[-1, -1, -1, -1, -1, -1, -1, -1, 3, -1, -1, -1, -1, -1, -1]\n",
      "[[0]]\n"
     ]
    }
   ],
   "source": [
    "from pprint import pprint\n",
    "def print_arr(arr):\n",
    "    for l in arr:\n",
    "        for c in l:\n",
    "            if c is None:\n",
    "                print(\"{:^4}\".format(-1), end=\"\")\n",
    "            else:\n",
    "                print(\"{:^4}\".format(c), end=\"\")\n",
    "        print()\n",
    "    print()\n",
    "\n",
    "class Automata:\n",
    "    empty_str = \"$\"\n",
    "    empty_any = -1\n",
    "    class State:\n",
    "        def __init__(self, fail_link=None):\n",
    "            self.transitions = {}\n",
    "            self.fail_link = fail_link\n",
    "            self.accepting = False\n",
    "            self.pattern_number = None\n",
    "\n",
    "        # def __repr__(self):\n",
    "        #     res = \"\"\n",
    "        #\n",
    "        #     for k, v in self.transitions.items():\n",
    "        #         res += \"{}: {}\\n\".format(k, v)\n",
    "        #\n",
    "        #     return res\n",
    "\n",
    "        def __str__(self):\n",
    "            return str(self.transitions)\n",
    "\n",
    "    def __init__(self, pattern_list, stop=False):\n",
    "        self.start = self.State()\n",
    "        print_arr(pattern_list)\n",
    "        if type(pattern_list[0]) == list:\n",
    "            pattern_list = [tuple(v) for v in pattern_list]\n",
    "            pprint(pattern_list)\n",
    "\n",
    "        pattern_list_dict = {v : i for i, v in enumerate(pattern_list)}\n",
    "        pprint(pattern_list_dict)\n",
    "        self.pattern = [[pattern_list_dict[v] for v in pattern_list]]\n",
    "\n",
    "\n",
    "        for number, pattern in enumerate(pattern_list):\n",
    "            state = self.start\n",
    "\n",
    "            for letter in pattern:\n",
    "                if letter not in state.transitions:\n",
    "                    state.transitions[letter] = self.State(fail_link=self.start)\n",
    "                state = state.transitions[letter]\n",
    "\n",
    "            state.accepting=True\n",
    "            state.pattern_number = number\n",
    "\n",
    "        q = list(self.start.transitions.values())\n",
    "\n",
    "        while q:\n",
    "            state = q.pop()\n",
    "\n",
    "            for letter, next_state in state.transitions.items():\n",
    "                fail_link = state.fail_link\n",
    "\n",
    "                while fail_link is not None:\n",
    "                    if letter in fail_link.transitions:\n",
    "                        next_state.fail_link = fail_link.transitions[letter]\n",
    "                        break\n",
    "\n",
    "                    fail_link = fail_link.fail_link\n",
    "\n",
    "                q.append(next_state)\n",
    "\n",
    "        if not stop:\n",
    "            self.col_automata = Automata(self.pattern, stop = True)\n",
    "\n",
    "    def run2d(self, text_2d, stop=False):\n",
    "        max_len = max(len(l) for l in text_2d)\n",
    "        matched = [None] * len(text_2d)\n",
    "\n",
    "        print_arr(text_2d)\n",
    "        # for l in self.pattern:\n",
    "        #     for c in l:\n",
    "        #         if c is None:\n",
    "        #             print(\"{:^4}\".format(-1), end=\"\")\n",
    "        #         else:\n",
    "        #             print(\"{:^4}\".format(c), end=\"\")\n",
    "        #     print()\n",
    "        for i, col in enumerate(text_2d):\n",
    "            if len(col) < max_len:\n",
    "                if type(col) == str:\n",
    "                    col += self.empty_str*(max_len - len(col))\n",
    "                elif type(col) == list:\n",
    "                    col += [self.empty_any]*(max_len - len(col))\n",
    "            m = self.run(col)\n",
    "\n",
    "            matched[i] = m\n",
    "        if not stop:\n",
    "            print_arr(matched)\n",
    "            matched = self.col_automata.run2d(list(map(list, zip(*matched))), True)\n",
    "            matches = []\n",
    "\n",
    "            for i in range(len(matched)):\n",
    "                for j in range(len(matched[i])):\n",
    "                    if matched[i][j] in self.col_automata.pattern[0]:\n",
    "                        matches.append((j, i))\n",
    "\n",
    "            return matches\n",
    "\n",
    "        return matched\n",
    "    def run(self, text):\n",
    "        for c in text:\n",
    "            print(\"{:^4}\".format(c), end=\"\")\n",
    "        print()\n",
    "        state = self.start\n",
    "\n",
    "        end_is_accepting = [-1] * len(text)\n",
    "\n",
    "        for i, letter in enumerate(text):\n",
    "            print(letter, state.transitions)\n",
    "            if letter in state.transitions:\n",
    "                state = state.transitions[letter]\n",
    "            else:\n",
    "                print(\"FAIL LINK\")\n",
    "                while state is not None:\n",
    "                    if letter in state.transitions:\n",
    "                        state = state.transitions[letter]\n",
    "                        break\n",
    "                    state = state.fail_link\n",
    "\n",
    "            if state is None:\n",
    "                state = self.start\n",
    "\n",
    "            if state.accepting is True:\n",
    "                print(\"ACCEPTING\")\n",
    "                end_is_accepting[i] = state.pattern_number\n",
    "\n",
    "        return end_is_accepting\n",
    "\n",
    "\n",
    "((y0, y1), (x0, x1)) = letters_postions['e']\n",
    "letter_img = haystack_img[y0:y1, x0:x1]\n",
    "plt.imshow(255 - letter_img, cmap='Greys')\n",
    "plt.show()\n",
    "automata_img = Automata(letter_img.tolist())\n",
    "print_arr(letter_img.tolist())\n",
    "# print(len(automata_img.run2d(haystack_img[34:48, 47:62].tolist())))\n",
    "\n",
    "print_arr(haystack_img[34:48, 47:62].tolist())\n",
    "print(automata_img.run(haystack_img[46, 47:62].tolist()))\n",
    "\n",
    "print(automata_img.col_automata.pattern)"
   ]
  },
  {
   "cell_type": "code",
   "execution_count": 399,
   "outputs": [
    {
     "name": "stdout",
     "output_type": "stream",
     "text": [
      "[[1, 1]]\n",
      "[[0]]\n"
     ]
    },
    {
     "data": {
      "text/plain": "[(2, 0)]"
     },
     "execution_count": 399,
     "metadata": {},
     "output_type": "execute_result"
    }
   ],
   "source": [
    "test_text = [\"abbbdsa\", \"cdab\", \"cdcddd\"]\n",
    "\n",
    "test_pattern = [\"c\", \"c\"]\n",
    "\n",
    "automata2d = Automata(test_pattern)\n",
    "automata2d.run2d(test_text)"
   ],
   "metadata": {
    "collapsed": false,
    "pycharm": {
     "name": "#%%\n"
    }
   }
  },
  {
   "cell_type": "code",
   "execution_count": 400,
   "outputs": [],
   "source": [
    "patterns = [\"abc\", \"aab\", \"cba\"]\n",
    "\n",
    "\n",
    "automata = Automata(patterns)"
   ],
   "metadata": {
    "collapsed": false,
    "pycharm": {
     "name": "#%%\n"
    }
   }
  },
  {
   "cell_type": "code",
   "execution_count": 401,
   "outputs": [
    {
     "data": {
      "text/plain": "[None, None, None, 1, 0, None]"
     },
     "execution_count": 401,
     "metadata": {},
     "output_type": "execute_result"
    }
   ],
   "source": [
    "automata.run(\"aaabca\")"
   ],
   "metadata": {
    "collapsed": false,
    "pycharm": {
     "name": "#%%\n"
    }
   }
  },
  {
   "cell_type": "code",
   "execution_count": 368,
   "outputs": [
    {
     "data": {
      "text/plain": "[None, None, None, None, 1, 0]"
     },
     "execution_count": 368,
     "metadata": {},
     "output_type": "execute_result"
    }
   ],
   "source": [
    "automata.run(\"baaabc\")"
   ],
   "metadata": {
    "collapsed": false,
    "pycharm": {
     "name": "#%%\n"
    }
   }
  },
  {
   "cell_type": "code",
   "execution_count": 369,
   "outputs": [
    {
     "data": {
      "text/plain": "[None, None, None, None]"
     },
     "execution_count": 369,
     "metadata": {},
     "output_type": "execute_result"
    }
   ],
   "source": [
    "automata.run(\"abaa\")"
   ],
   "metadata": {
    "collapsed": false,
    "pycharm": {
     "name": "#%%\n"
    }
   }
  },
  {
   "cell_type": "code",
   "execution_count": 370,
   "outputs": [
    {
     "data": {
      "text/plain": "[None, None, None]"
     },
     "execution_count": 370,
     "metadata": {},
     "output_type": "execute_result"
    }
   ],
   "source": [
    "automata.run(\"bca\")\n"
   ],
   "metadata": {
    "collapsed": false,
    "pycharm": {
     "name": "#%%\n"
    }
   }
  },
  {
   "cell_type": "code",
   "execution_count": 386,
   "outputs": [
    {
     "name": "stdout",
     "output_type": "stream",
     "text": [
      "\n",
      "\n",
      "--> 1\n",
      " --> 158\n",
      "\"--> 0\n",
      "(--> 0\n",
      ")--> 0\n",
      ",--> 0\n",
      "---> 0\n",
      ".--> 0\n",
      "0--> 0\n",
      "1--> 0\n",
      "3--> 0\n",
      "5--> 0\n",
      "6--> 0\n",
      "7--> 0\n",
      ":--> 0\n",
      ";--> 0\n",
      "A--> 0\n",
      "B--> 0\n",
      "C--> 0\n",
      "D--> 0\n",
      "E--> 0\n",
      "F--> 0\n",
      "G--> 0\n",
      "I--> 0\n",
      "L--> 0\n",
      "M--> 0\n",
      "N--> 0\n",
      "O--> 0\n",
      "P--> 0\n",
      "Q--> 0\n",
      "R--> 0\n",
      "S--> 0\n",
      "T--> 0\n",
      "U--> 0\n",
      "V--> 0\n",
      "W--> 0\n",
      "X--> 0\n",
      "a--> 28\n",
      "b--> 0\n",
      "c--> 6\n",
      "d--> 1\n",
      "e--> 48\n",
      "f--> 2\n",
      "g--> 0\n",
      "h--> 4\n",
      "i--> 13\n",
      "j--> 0\n",
      "k--> 0\n",
      "l--> 5\n",
      "m--> 5\n",
      "n--> 15\n",
      "o--> 21\n",
      "p--> 2\n",
      "q--> 0\n",
      "r--> 21\n",
      "s--> 19\n",
      "t--> 41\n",
      "u--> 0\n",
      "v--> 0\n",
      "w--> 2\n",
      "x--> 1\n",
      "y--> 1\n",
      "z--> 0\n",
      "'th' found: []\n",
      "'t h' found: [(38, 2)]\n"
     ]
    }
   ],
   "source": [
    "f = open('haystack.txt', 'r')\n",
    "text = f.readlines()\n",
    "# pprint(text)\n",
    "letters=set()\n",
    "for l in text:\n",
    "    for c in l:\n",
    "        letters.add(c)\n",
    "print(f.read())\n",
    "for letter in sorted(letters):\n",
    "    automaton = Automata([letter, letter])\n",
    "    res = automaton.run2d(text)\n",
    "    print(\"{}--> {}\".format(letter, len(res)))\n",
    "\n",
    "\n",
    "automaton = Automata([\"th\", \"th\"])\n",
    "print(\"'th' found:\", automaton.run2d(text))\n",
    "\n",
    "automaton = Automata([\"t h\", \"t h\"])\n",
    "print(\"'t h' found:\", automaton.run2d(text))"
   ],
   "metadata": {
    "collapsed": false,
    "pycharm": {
     "name": "#%%\n"
    }
   }
  },
  {
   "cell_type": "code",
   "execution_count": 378,
   "outputs": [
    {
     "data": {
      "text/plain": "<Figure size 432x288 with 1 Axes>",
      "image/png": "[encoded data removed]"
     },
     "metadata": {
      "needs_background": "light"
     },
     "output_type": "display_data"
    }
   ],
   "source": [
    "import cv2\n",
    "import matplotlib.pyplot as plt\n",
    "# Load image\n",
    "haystack_img = cv2.imread(\"haystack.png\", cv2.IMREAD_GRAYSCALE)\n",
    "\n",
    "# Binarize image (pixels below 127 become 0, other become 255)\n",
    "haystack_img = cv2.threshold(haystack_img, 127, 255, cv2.THRESH_BINARY)[-1]\n",
    "test_pattern_img = haystack_img[474:491,185:283]\n",
    "\n",
    "plt.imshow(255 - test_pattern_img, cmap='Greys')\n",
    "plt.show()\n"
   ],
   "metadata": {
    "collapsed": false,
    "pycharm": {
     "name": "#%%\n"
    }
   }
  },
  {
   "cell_type": "code",
   "execution_count": 446,
   "outputs": [
    {
     "name": "stdout",
     "output_type": "stream",
     "text": [
      "---\n",
      "Checking letter e\n"
     ]
    },
    {
     "data": {
      "text/plain": "<Figure size 432x288 with 1 Axes>",
      "image/png": "[encoded data removed]"
     },
     "metadata": {
      "needs_background": "light"
     },
     "output_type": "display_data"
    },
    {
     "name": "stdout",
     "output_type": "stream",
     "text": [
      "---\n",
      "Checking letter a\n"
     ]
    },
    {
     "data": {
      "text/plain": "<Figure size 432x288 with 1 Axes>",
      "image/png": "[encoded data removed]"
     },
     "metadata": {
      "needs_background": "light"
     },
     "output_type": "display_data"
    },
    {
     "name": "stdout",
     "output_type": "stream",
     "text": [
      "---\n",
      "Checking letter w\n"
     ]
    },
    {
     "data": {
      "text/plain": "<Figure size 432x288 with 1 Axes>",
      "image/png": "[encoded data removed]"
     },
     "metadata": {
      "needs_background": "light"
     },
     "output_type": "display_data"
    },
    {
     "name": "stdout",
     "output_type": "stream",
     "text": [
      "---\n",
      "Checking letter q\n"
     ]
    },
    {
     "data": {
      "text/plain": "<Figure size 432x288 with 1 Axes>",
      "image/png": "[encoded data removed]"
     },
     "metadata": {
      "needs_background": "light"
     },
     "output_type": "display_data"
    },
    {
     "name": "stdout",
     "output_type": "stream",
     "text": [
      "---\n",
      "Checking letter p\n"
     ]
    },
    {
     "data": {
      "text/plain": "<Figure size 432x288 with 1 Axes>",
      "image/png": "[encoded data removed]"
     },
     "metadata": {
      "needs_background": "light"
     },
     "output_type": "display_data"
    }
   ],
   "source": [
    "letters_postions = {\n",
    "    'e': ((37, 47), (51, 60)),\n",
    "    'a': ((103, 113), (56, 64)),\n",
    "    'w': ((59, 69), (49, 62)),\n",
    "    'q': ((147, 161), (191, 200)),\n",
    "    'p': ((59, 69), (90, 99)),\n",
    "}\n",
    "\n",
    "# 33:48, 25:62\n",
    "for letter, ((y0, y1), (x0, x1)) in list(letters_postions.items()):\n",
    "    print(\"---\")\n",
    "    print(f\"Checking letter {letter}\")\n",
    "    letter_img = haystack_img[y0:y1, x0:x1]\n",
    "    plt.imshow(255 - letter_img, cmap='Greys')\n",
    "    plt.show()\n",
    "\n",
    "    # automata_img = Automata(letter_img.tolist())\n",
    "    # pprint(letter_img.tolist())\n",
    "    # print(len(automata_img.run2d(haystack_img.tolist())))\n",
    "    # automata_text = Automata([letter])\n",
    "    # print(len(automata_text.run2d(text)))"
   ],
   "metadata": {
    "collapsed": false,
    "pycharm": {
     "name": "#%%\n"
    }
   }
  },
  {
   "cell_type": "code",
   "execution_count": null,
   "outputs": [],
   "source": [],
   "metadata": {
    "collapsed": false,
    "pycharm": {
     "name": "#%%\n"
    }
   }
  }
 ],
 "metadata": {
  "kernelspec": {
   "display_name": "Python 3",
   "language": "python",
   "name": "python3"
  },
  "language_info": {
   "codemirror_mode": {
    "name": "ipython",
    "version": 2
   },
   "file_extension": ".py",
   "mimetype": "text/x-python",
   "name": "python",
   "nbconvert_exporter": "python",
   "pygments_lexer": "ipython2",
   "version": "2.7.6"
  }
 },
 "nbformat": 4,
 "nbformat_minor": 0
}