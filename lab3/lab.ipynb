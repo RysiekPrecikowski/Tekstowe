{
 "cells": [
  {
   "cell_type": "code",
   "execution_count": 1,
   "id": "unique-removal",
   "metadata": {},
   "outputs": [],
   "source": [
    "from queue import PriorityQueue\n",
    "from printTree import display_tree\n",
    "from bitarray import bitarray\n",
    "import os"
   ]
  },
  {
   "cell_type": "markdown",
   "id": "identical-charlotte",
   "metadata": {},
   "source": [
    "# Statyczny algorytm Huffmana"
   ]
  },
  {
   "cell_type": "code",
   "execution_count": 2,
   "id": "pressed-pacific",
   "metadata": {},
   "outputs": [],
   "source": [
    "class Huffman_tree:\n",
    "    class Node:\n",
    "        def __init__(self, letter, freq, left = None, right = None):\n",
    "            self.letter = letter\n",
    "            self.freq = freq\n",
    "            self.left = left\n",
    "            self.right = right\n",
    "            \n",
    "            self.code = ''\n",
    "        \n",
    "        def __lt__(self, other):\n",
    "            return self.freq < other.freq\n",
    "        \n",
    "    def __init__(self, text):\n",
    "        self.freq = {}\n",
    "        \n",
    "        for l in text:\n",
    "            if l in self.freq:\n",
    "                self.freq[l] += 1\n",
    "            else:\n",
    "                self.freq[l] = 1\n",
    "        q = PriorityQueue()\n",
    "        \n",
    "        for l, f in self.freq.items():\n",
    "            q.put((f, self.Node(l, f)))\n",
    "        \n",
    "        while q.qsize() > 1:\n",
    "            _, left = q.get()\n",
    "            _, right = q.get()\n",
    "            \n",
    "            new_node = self.Node(None, left.freq + right.freq, left, right)\n",
    "            \n",
    "            q.put((new_node.freq, new_node))\n",
    "\n",
    "        _, self.root = q.get()\n",
    "        \n",
    "        self.code = {}\n",
    "        self.get_code(self.root, \"\", \"\")\n",
    "    \n",
    "    \n",
    "    def get_code(self, node, prev_code, symbol):\n",
    "        node.code = prev_code + symbol\n",
    "        \n",
    "        if node.letter is not None:\n",
    "            self.code[node.letter] = node.code\n",
    "        \n",
    "        if node.left is not None:\n",
    "            self.get_code(node.left, node.code, \"0\")\n",
    "        \n",
    "        if node.right is not None:\n",
    "            self.get_code(node.right, node.code, \"1\")\n",
    "    \n",
    "    def print(self):\n",
    "        def _to_print(root):\n",
    "            if root.letter is not None:\n",
    "                return \" \" + str(root.letter) + \":\" + root.code\n",
    "            return \"_\"\n",
    "        display_tree(self.root, whatToPrint=_to_print)"
   ]
  },
  {
   "cell_type": "code",
   "execution_count": 3,
   "id": "preliminary-gossip",
   "metadata": {},
   "outputs": [],
   "source": [
    "text = \"aardvark\"\n",
    "\n",
    "huff = Huffman_tree(text)"
   ]
  },
  {
   "cell_type": "code",
   "execution_count": 4,
   "id": "governmental-pakistan",
   "metadata": {},
   "outputs": [
    {
     "name": "stdout",
     "output_type": "stream",
     "text": [
      "\n",
      "      ___________________      \n",
      "     /                   \\     \n",
      "   _____           _________   \n",
      "  /     \\         /         \\  \n",
      " k:00  r:01     ______     a:11\n",
      "               /      \\        \n",
      "             d:100  v:101      \n",
      "\n"
     ]
    }
   ],
   "source": [
    "huff.print()"
   ]
  },
  {
   "cell_type": "code",
   "execution_count": 5,
   "id": "enclosed-chapter",
   "metadata": {},
   "outputs": [
    {
     "name": "stdout",
     "output_type": "stream",
     "text": [
      "{'k': '00', 'r': '01', 'd': '100', 'v': '101', 'a': '11'}\n"
     ]
    }
   ],
   "source": [
    "print(huff.code)"
   ]
  },
  {
   "cell_type": "code",
   "execution_count": 6,
   "id": "utility-vinyl",
   "metadata": {},
   "outputs": [],
   "source": [
    "def encode(text, code):\n",
    "    res = bitarray()\n",
    "    \n",
    "    for l in text:\n",
    "        res += bitarray(code[l])\n",
    "    return res"
   ]
  },
  {
   "cell_type": "code",
   "execution_count": 7,
   "id": "explicit-learning",
   "metadata": {},
   "outputs": [],
   "source": [
    "def decode(code, tree):\n",
    "    res = \"\"\n",
    "    node = tree.root\n",
    "\n",
    "    for c in code:\n",
    "        if not c:\n",
    "            node = node.left\n",
    "        else:\n",
    "            node = node.right\n",
    "        \n",
    "        if node.left is None and node.right is None:\n",
    "            res += node.letter\n",
    "            node = tree.root\n",
    "        \n",
    "    return res"
   ]
  },
  {
   "cell_type": "code",
   "execution_count": 8,
   "id": "transsexual-kelly",
   "metadata": {},
   "outputs": [
    {
     "name": "stdout",
     "output_type": "stream",
     "text": [
      "bitarray('111101100101110100')\n"
     ]
    }
   ],
   "source": [
    "encoded = encode(text, huff.code)\n",
    "print(encoded)"
   ]
  },
  {
   "cell_type": "code",
   "execution_count": 9,
   "id": "demographic-antibody",
   "metadata": {},
   "outputs": [
    {
     "name": "stdout",
     "output_type": "stream",
     "text": [
      "aardvark\n",
      "True\n",
      "\n",
      "      ___________________      \n",
      "     /                   \\     \n",
      "   _____           _________   \n",
      "  /     \\         /         \\  \n",
      " k:00  r:01     ______     a:11\n",
      "               /      \\        \n",
      "             d:100  v:101      \n",
      "\n"
     ]
    }
   ],
   "source": [
    "decoded = decode(encoded, huff)\n",
    "print(decoded)\n",
    "print(text == decoded)\n",
    "huff.print()"
   ]
  },
  {
   "cell_type": "markdown",
   "id": "existing-musical",
   "metadata": {},
   "source": [
    "# Dynamiczny algorytm Huffmana"
   ]
  },
  {
   "cell_type": "code",
   "execution_count": 10,
   "id": "according-contrast",
   "metadata": {
    "scrolled": false
   },
   "outputs": [],
   "source": [
    "class Adaptive_Huffman_tree:\n",
    "    NYT = \"NYT\"\n",
    "    class Node:\n",
    "        def __init__(self, letter, freq = 0, left = None, right = None, parent = None):\n",
    "            self.letter = letter\n",
    "            self.freq = freq\n",
    "            self.left = left\n",
    "            self.right = right\n",
    "            self.parent = parent\n",
    "\n",
    "        def __lt__(self, other):\n",
    "            return self.freq < other.freq\n",
    "        \n",
    "    def __init__(self):\n",
    "        self.root = self.Node(self.NYT)\n",
    "        self.letters = {self.NYT : self.root}\n",
    "    \n",
    "    \n",
    "    def encode(self, text):\n",
    "        res = bitarray()\n",
    "        for letter in text:\n",
    "            if letter not in self.letters:\n",
    "                tmp = bitarray()\n",
    "                tmp.frombytes(letter.encode(\"utf-8\"))\n",
    "                res += bitarray(self.get_path()) + tmp\n",
    "            else:\n",
    "                res += bitarray(self.get_path(self.letters[letter]))\n",
    "\n",
    "            self.update(letter)\n",
    "        res += bitarray(self.get_path()) #pseudo_eof\n",
    "        return res\n",
    "\n",
    "    def decode(self, text):\n",
    "        res = \"\"\n",
    "        node = self.root\n",
    "        i = 0\n",
    "        while i < len(text):\n",
    "            c = text[i]      \n",
    "            if i != 0:\n",
    "                if not c:\n",
    "                    node = node.left\n",
    "                else:\n",
    "                    node = node.right\n",
    "\n",
    "            if node.left is None and node.right is None:\n",
    "                if node.letter == self.NYT:\n",
    "                    if i != 0:\n",
    "                        i += 1\n",
    "                    if i + 8 >= len(text): #pseudo_eof\n",
    "                        break\n",
    "                    letter = text[i:i + 8].tobytes().decode(\"utf-8\", errors=\"ignore\")\n",
    "                    \n",
    "                    i += 8-1\n",
    "                else:\n",
    "                    letter = node.letter\n",
    "               \n",
    "                res += letter\n",
    "                self.update(letter)\n",
    "                node = self.root\n",
    " \n",
    "            i += 1\n",
    "        return res\n",
    "    \n",
    "    def update(self, letter):\n",
    "        if letter not in self.letters:\n",
    "            nyt_node = self.letters[self.NYT]\n",
    "\n",
    "            node = self.Node(letter)\n",
    "\n",
    "            internal_node = self.Node(None, left = nyt_node, right = node, parent = nyt_node.parent)\n",
    "            nyt_node.parent = internal_node\n",
    "            node.parent = internal_node\n",
    "\n",
    "            self.letters[letter] = node\n",
    "\n",
    "            if nyt_node is self.root:\n",
    "                self.root = internal_node\n",
    "            else:\n",
    "                internal_node.parent.left = internal_node\n",
    "        else:\n",
    "            node = self.letters[letter]\n",
    "\n",
    "        while node is not None:\n",
    "            node.freq += 1\n",
    "            self.fix(node)\n",
    "            node = node.parent  \n",
    "                \n",
    "    def fix(self, node):\n",
    "        if node.parent is None:\n",
    "            return\n",
    "        node = node.parent\n",
    "        \n",
    "        if node.left > node.right:\n",
    "            node.left, node.right = node.right, node.left\n",
    "    \n",
    "    def get_path(self, node = None):\n",
    "        if node is None:\n",
    "            node = self.letters[self.NYT]\n",
    "        res = \"\"\n",
    "        while node.parent:\n",
    "            if node.parent.left is node:\n",
    "                res += \"0\"\n",
    "            else:\n",
    "                res += \"1\"\n",
    "            node = node.parent\n",
    "        return res[::-1]\n",
    "     \n",
    "    \n",
    "    def print(self):\n",
    "        def _to_print(root):\n",
    "            if root.letter is not None:\n",
    "                return \" \" + str(root.letter) + \":\" + str(root.freq) \n",
    "            return \"_\" + str(root.freq) + \"_\"\n",
    "        display_tree(self.root, whatToPrint=_to_print)"
   ]
  },
  {
   "cell_type": "code",
   "execution_count": 11,
   "id": "sunset-impression",
   "metadata": {},
   "outputs": [
    {
     "name": "stdout",
     "output_type": "stream",
     "text": [
      "\n",
      "   __8______                             \n",
      "  /         \\                            \n",
      " a:3      __5______                      \n",
      "         /         \\                     \n",
      "        r:2      __3_______________      \n",
      "                /                  \\     \n",
      "               d:1           ______2___  \n",
      "                            /          \\ \n",
      "                         ___1___      v:1\n",
      "                        /       \\        \n",
      "                      NYT:0    k:1       \n",
      "\n",
      "bitarray('01100001100111001000011001000000111011001011000110101111100')\n"
     ]
    }
   ],
   "source": [
    "tree_encode = Adaptive_Huffman_tree()\n",
    "encoded = tree_encode.encode(\"aardvark\")\n",
    "tree_encode.print()\n",
    "print(encoded)"
   ]
  },
  {
   "cell_type": "code",
   "execution_count": 12,
   "id": "backed-junction",
   "metadata": {
    "scrolled": false
   },
   "outputs": [
    {
     "name": "stdout",
     "output_type": "stream",
     "text": [
      "\n",
      "   __8______                             \n",
      "  /         \\                            \n",
      " a:3      __5______                      \n",
      "         /         \\                     \n",
      "        r:2      __3_______________      \n",
      "                /                  \\     \n",
      "               d:1           ______2___  \n",
      "                            /          \\ \n",
      "                         ___1___      v:1\n",
      "                        /       \\        \n",
      "                      NYT:0    k:1       \n",
      "\n",
      "aardvark\n"
     ]
    }
   ],
   "source": [
    "tree_decode = Adaptive_Huffman_tree()\n",
    "decoded = tree_decode.decode(encoded)\n",
    "tree_decode.print()\n",
    "print(decoded)"
   ]
  },
  {
   "cell_type": "code",
   "execution_count": 13,
   "id": "russian-brake",
   "metadata": {},
   "outputs": [],
   "source": [
    "def save_bits_to_file(bits, file):\n",
    "    with open(file+\"_encoded\", 'wb') as f:\n",
    "        bits.tofile(f)\n",
    "        \n",
    "def read_bits_from_file(file):\n",
    "    with open(file+\"_encoded\", 'rb') as f:\n",
    "        encoded = bitarray()\n",
    "        encoded.fromfile(f)\n",
    "        return encoded"
   ]
  },
  {
   "cell_type": "code",
   "execution_count": 14,
   "id": "nutritional-frank",
   "metadata": {},
   "outputs": [],
   "source": [
    "def test_classic(file):\n",
    "    with open(file) as f:\n",
    "        print(\"test classic\", file)\n",
    "        text = f.read()\n",
    "        huff = Huffman_tree(text)\n",
    "        encoded = encode(text, huff.code)\n",
    "        print(\"encoding time:\")\n",
    "        %timeit encoded = encoded = encode(text, huff.code)\n",
    "        \n",
    "        save_bits_to_file(encoded, file)\n",
    "\n",
    "        print(\"przed kompresja\", os.path.getsize(file))\n",
    "        print(\"po kompresjii\", os.path.getsize(file + \"_encoded\"))\n",
    "        print(\"współczynnik kompresji\", 1 - os.path.getsize(file + \"_encoded\") / os.path.getsize(file))\n",
    "        \n",
    "        decoded = decode(encoded, huff)\n",
    "        print(\"decoding time:\")\n",
    "        %timeit decoded = decode(encoded, huff)\n",
    "        \n",
    "        print(\"equal = \", decoded == text)\n",
    "        print()"
   ]
  },
  {
   "cell_type": "code",
   "execution_count": 15,
   "id": "comparable-plain",
   "metadata": {},
   "outputs": [],
   "source": [
    "def test_adaptive(file):\n",
    "    with open(file) as f:\n",
    "        print(\"test adaptive\", file)\n",
    "        text = f.read()\n",
    "        tree_encode = Adaptive_Huffman_tree()\n",
    "        encoded = tree_encode.encode(text)\n",
    "        print(\"encoding time:\")\n",
    "        %timeit encoded = tree_encode.encode(text)\n",
    "        \n",
    "        save_bits_to_file(encoded, file)\n",
    "\n",
    "        print(\"przed kompresja\", os.path.getsize(file))\n",
    "        print(\"po kompresjii\", os.path.getsize(file + \"_encoded\"))\n",
    "        print(\"współczynnik kompresji\", 1 - os.path.getsize(file + \"_encoded\") / os.path.getsize(file))\n",
    "\n",
    "        encoded = read_bits_from_file(file)\n",
    "\n",
    "        tree_decode = Adaptive_Huffman_tree()\n",
    "        \n",
    "        decoded = tree_decode.decode(encoded)\n",
    "        print(\"decoding time:\")\n",
    "        %timeit decoded = tree_decode.decode(encoded)\n",
    "        \n",
    "        print(\"equal = \", decoded == text)\n",
    "        print()"
   ]
  },
  {
   "cell_type": "code",
   "execution_count": 16,
   "id": "close-switzerland",
   "metadata": {},
   "outputs": [],
   "source": [
    "files = [\"1kB.txt\", \"10kB.txt\", \"100kB.txt\", \"1MB.txt\"]"
   ]
  },
  {
   "cell_type": "code",
   "execution_count": 17,
   "id": "about-certification",
   "metadata": {
    "scrolled": false
   },
   "outputs": [
    {
     "name": "stdout",
     "output_type": "stream",
     "text": [
      "test classic 1kB.txt\n",
      "encoding time:\n",
      "239 µs ± 5.79 µs per loop (mean ± std. dev. of 7 runs, 1000 loops each)\n",
      "przed kompresja 1354\n",
      "po kompresjii 426\n",
      "współczynnik kompresji 0.6853766617429837\n",
      "decoding time:\n",
      "290 µs ± 1.15 µs per loop (mean ± std. dev. of 7 runs, 1000 loops each)\n",
      "equal =  True\n",
      "\n",
      "\n",
      "test classic 10kB.txt\n",
      "encoding time:\n",
      "2.45 ms ± 57 µs per loop (mean ± std. dev. of 7 runs, 100 loops each)\n",
      "przed kompresja 13512\n",
      "po kompresjii 4298\n",
      "współczynnik kompresji 0.6819123741859088\n",
      "decoding time:\n",
      "3.25 ms ± 191 µs per loop (mean ± std. dev. of 7 runs, 100 loops each)\n",
      "equal =  True\n",
      "\n",
      "\n",
      "test classic 100kB.txt\n",
      "encoding time:\n",
      "24.8 ms ± 1.22 ms per loop (mean ± std. dev. of 7 runs, 10 loops each)\n",
      "przed kompresja 135091\n",
      "po kompresjii 42691\n",
      "współczynnik kompresji 0.6839833889748392\n",
      "decoding time:\n",
      "31 ms ± 1.21 ms per loop (mean ± std. dev. of 7 runs, 10 loops each)\n",
      "equal =  True\n",
      "\n",
      "\n",
      "test classic 1MB.txt\n",
      "encoding time:\n",
      "243 ms ± 6.33 ms per loop (mean ± std. dev. of 7 runs, 1 loop each)\n",
      "przed kompresja 1350880\n",
      "po kompresjii 426786\n",
      "współczynnik kompresji 0.6840681629752458\n",
      "decoding time:\n",
      "296 ms ± 5.92 ms per loop (mean ± std. dev. of 7 runs, 1 loop each)\n",
      "equal =  True\n",
      "\n",
      "\n"
     ]
    }
   ],
   "source": [
    "for file in files[:]:\n",
    "    test_classic(file)\n",
    "    print()"
   ]
  },
  {
   "cell_type": "code",
   "execution_count": 18,
   "id": "active-hospital",
   "metadata": {
    "scrolled": false
   },
   "outputs": [
    {
     "name": "stdout",
     "output_type": "stream",
     "text": [
      "test adaptive 1kB.txt\n",
      "encoding time:\n",
      "4.21 ms ± 169 µs per loop (mean ± std. dev. of 7 runs, 100 loops each)\n",
      "przed kompresja 1354\n",
      "po kompresjii 847\n",
      "współczynnik kompresji 0.3744460856720827\n",
      "decoding time:\n",
      "4.69 ms ± 203 µs per loop (mean ± std. dev. of 7 runs, 100 loops each)\n",
      "equal =  True\n",
      "\n",
      "\n",
      "test adaptive 10kB.txt\n",
      "encoding time:\n",
      "38.4 ms ± 636 µs per loop (mean ± std. dev. of 7 runs, 10 loops each)\n",
      "przed kompresja 13512\n",
      "po kompresjii 8336\n",
      "współczynnik kompresji 0.3830669034931913\n",
      "decoding time:\n",
      "41.9 ms ± 1.4 ms per loop (mean ± std. dev. of 7 runs, 10 loops each)\n",
      "equal =  True\n",
      "\n",
      "\n",
      "test adaptive 100kB.txt\n",
      "encoding time:\n",
      "386 ms ± 12.1 ms per loop (mean ± std. dev. of 7 runs, 1 loop each)\n",
      "przed kompresja 135091\n",
      "po kompresjii 82157\n",
      "współczynnik kompresji 0.3918395748051313\n",
      "decoding time:\n",
      "415 ms ± 11.3 ms per loop (mean ± std. dev. of 7 runs, 1 loop each)\n",
      "equal =  True\n",
      "\n",
      "\n",
      "test adaptive 1MB.txt\n",
      "encoding time:\n",
      "4.47 s ± 136 ms per loop (mean ± std. dev. of 7 runs, 1 loop each)\n",
      "przed kompresja 1350880\n",
      "po kompresjii 929095\n",
      "współczynnik kompresji 0.3122298057562478\n",
      "decoding time:\n",
      "4.47 s ± 120 ms per loop (mean ± std. dev. of 7 runs, 1 loop each)\n",
      "equal =  True\n",
      "\n",
      "\n"
     ]
    }
   ],
   "source": [
    "for file in files:\n",
    "    test_adaptive(file)\n",
    "    print()"
   ]
  }
 ],
 "metadata": {
  "kernelspec": {
   "display_name": "Python 3",
   "language": "python",
   "name": "python3"
  },
  "language_info": {
   "codemirror_mode": {
    "name": "ipython",
    "version": 3
   },
   "file_extension": ".py",
   "mimetype": "text/x-python",
   "name": "python",
   "nbconvert_exporter": "python",
   "pygments_lexer": "ipython3",
   "version": "3.8.6"
  }
 },
 "nbformat": 4,
 "nbformat_minor": 5
}
