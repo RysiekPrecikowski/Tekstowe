{
 "cells": [
  {
   "cell_type": "code",
   "execution_count": 3,
   "id": "unique-removal",
   "metadata": {},
   "outputs": [],
   "source": [
    "from queue import PriorityQueue\n",
    "from printTree import display_tree\n",
    "\n",
    "import networkx as nx \n",
    "from networkx.drawing.nx_agraph import write_dot, graphviz_layout #TODO\n",
    "import matplotlib.pyplot as plt "
   ]
  },
  {
   "cell_type": "code",
   "execution_count": 86,
   "id": "pressed-pacific",
   "metadata": {},
   "outputs": [],
   "source": [
    "class Huffman_tree:\n",
    "    class Node:\n",
    "        def __init__(self, letter, freq, left = None, right = None):\n",
    "            self.letter = letter\n",
    "            self.freq = freq\n",
    "            self.left = left\n",
    "            self.right = right\n",
    "            \n",
    "            self.code = ''\n",
    "            self.symbol = ''\n",
    "        \n",
    "        def __lt__(self, other):\n",
    "            return self.freq < other.freq\n",
    "        \n",
    "    def __init__(self, text):\n",
    "        self.freq = {}\n",
    "        \n",
    "        for l in text:\n",
    "            if l in self.freq:\n",
    "                self.freq[l] += 1\n",
    "            else:\n",
    "                self.freq[l] = 1\n",
    "        print(self.freq)\n",
    "        q = PriorityQueue()\n",
    "        \n",
    "        for l, f in self.freq.items():\n",
    "            q.put((f, self.Node(l, f)))\n",
    "        \n",
    "        while q.qsize() > 1:\n",
    "            _, left = q.get()\n",
    "            _, right = q.get()\n",
    "            \n",
    "            \n",
    "            left.symbol = '0'\n",
    "            right.symbol = '1'\n",
    "            \n",
    "            new_node = self.Node(None, left.freq + right.freq, left, right)\n",
    "            \n",
    "            q.put((new_node.freq, new_node))\n",
    "\n",
    "        _, self.root = q.get()\n",
    "        \n",
    "        self.code = {}\n",
    "        \n",
    "        self.get_code(self.root, \"\")\n",
    "    \n",
    "    \n",
    "    def get_code(self, node, prev_code):\n",
    "        node.code = prev_code + node.symbol\n",
    "        \n",
    "        if node.letter is not None:\n",
    "            self.code[node.letter] = node.code\n",
    "        \n",
    "        if node.left is not None:\n",
    "            self.get_code(node.left, node.code)\n",
    "        \n",
    "        if node.right is not None:\n",
    "            self.get_code(node.right, node.code)\n",
    "    \n",
    "    def print(self):\n",
    "        def _to_print(root):\n",
    "            if root.letter is not None:\n",
    "                return \" \" + str(root.letter) + \":\" + root.code\n",
    "            return \"_\"\n",
    "        display_tree(self.root, whatToPrint=_to_print)\n",
    "    \n",
    "    "
   ]
  },
  {
   "cell_type": "code",
   "execution_count": 87,
   "id": "preliminary-gossip",
   "metadata": {},
   "outputs": [
    {
     "name": "stdout",
     "output_type": "stream",
     "text": [
      "{'a': 8, 'b': 10, 'c': 2, 's': 3, 'j': 1, 'd': 1}\n"
     ]
    }
   ],
   "source": [
    "text = \"\"\"abaaabcbsbcbjdssbbbaababa\"\"\"\n",
    "\n",
    "huff = Huffman_tree(text)"
   ]
  },
  {
   "cell_type": "code",
   "execution_count": 88,
   "id": "governmental-pakistan",
   "metadata": {},
   "outputs": [
    {
     "name": "stdout",
     "output_type": "stream",
     "text": [
      "\n",
      "   __________________________________      \n",
      "  /                                  \\     \n",
      " b:0        ____________________________   \n",
      "           /                            \\  \n",
      "         __________                    a:11\n",
      "        /          \\                       \n",
      "      s:100     ____________               \n",
      "               /            \\              \n",
      "             c:1010      ________          \n",
      "                        /        \\         \n",
      "                     j:10110  d:10111      \n",
      "\n"
     ]
    }
   ],
   "source": [
    "huff.print()"
   ]
  },
  {
   "cell_type": "code",
   "execution_count": 89,
   "id": "enclosed-chapter",
   "metadata": {},
   "outputs": [
    {
     "name": "stdout",
     "output_type": "stream",
     "text": [
      "{'b': '0', 's': '100', 'c': '1010', 'j': '10110', 'd': '10111', 'a': '11'}\n"
     ]
    }
   ],
   "source": [
    "print(huff.code)"
   ]
  },
  {
   "cell_type": "code",
   "execution_count": 123,
   "id": "utility-vinyl",
   "metadata": {},
   "outputs": [],
   "source": [
    "def text_to_code(text, code):\n",
    "    res = \"\"\n",
    "    \n",
    "    for l in text:\n",
    "        res += code[l]\n",
    "    \n",
    "    return res"
   ]
  },
  {
   "cell_type": "code",
   "execution_count": 142,
   "id": "explicit-learning",
   "metadata": {},
   "outputs": [],
   "source": [
    "def text_from_code(code, tree):\n",
    "    res = \"\"\n",
    "    tmp = \"\"\n",
    "    node = tree.root\n",
    "    for c in code:  \n",
    "        if c == '0':\n",
    "            node = node.left\n",
    "        else:\n",
    "            node = node.right\n",
    "        \n",
    "        if node.left is None and node.right is None:\n",
    "            res += node.letter\n",
    "            node = tree.root\n",
    "        \n",
    "    return res"
   ]
  },
  {
   "cell_type": "code",
   "execution_count": null,
   "id": "theoretical-lewis",
   "metadata": {},
   "outputs": [],
   "source": []
  },
  {
   "cell_type": "code",
   "execution_count": 143,
   "id": "transsexual-kelly",
   "metadata": {},
   "outputs": [
    {
     "name": "stdout",
     "output_type": "stream",
     "text": [
      "11011111101010010001010010110101111001000001111011011\n"
     ]
    }
   ],
   "source": [
    "coded = text_to_code(text, huff.code)\n",
    "print(coded)"
   ]
  },
  {
   "cell_type": "code",
   "execution_count": 144,
   "id": "demographic-antibody",
   "metadata": {},
   "outputs": [
    {
     "name": "stdout",
     "output_type": "stream",
     "text": [
      "abaaabcbsbcbjdssbbbaababa\n",
      "abaaabcbsbcbjdssbbbaababa\n"
     ]
    }
   ],
   "source": [
    "decoded = text_from_code(coded, huff)\n",
    "print(decoded)\n",
    "print(text)"
   ]
  },
  {
   "cell_type": "code",
   "execution_count": null,
   "id": "passive-wholesale",
   "metadata": {},
   "outputs": [],
   "source": []
  },
  {
   "cell_type": "code",
   "execution_count": null,
   "id": "according-contrast",
   "metadata": {},
   "outputs": [],
   "source": []
  }
 ],
 "metadata": {
  "kernelspec": {
   "display_name": "Python 3",
   "language": "python",
   "name": "python3"
  },
  "language_info": {
   "codemirror_mode": {
    "name": "ipython",
    "version": 3
   },
   "file_extension": ".py",
   "mimetype": "text/x-python",
   "name": "python",
   "nbconvert_exporter": "python",
   "pygments_lexer": "ipython3",
   "version": "3.8.6"
  }
 },
 "nbformat": 4,
 "nbformat_minor": 5
}
