{
 "cells": [
  {
   "cell_type": "code",
   "execution_count": 1,
   "id": "catholic-equilibrium",
   "metadata": {},
   "outputs": [],
   "source": [
    "import networkx as nx \n",
    "from networkx.drawing.nx_agraph import write_dot, graphviz_layout #TODO\n",
    "import matplotlib.pyplot as plt "
   ]
  },
  {
   "cell_type": "code",
   "execution_count": 2,
   "id": "serious-issue",
   "metadata": {},
   "outputs": [],
   "source": [
    "words = [\"bbbd\", \"aabbabd\", \"ababcd\", \"abcbccd\"]\n"
   ]
  },
  {
   "cell_type": "code",
   "execution_count": 3,
   "id": "handled-neighbor",
   "metadata": {},
   "outputs": [
    {
     "name": "stdout",
     "output_type": "stream",
     "text": [
      "[True, True, True, True]\n"
     ]
    }
   ],
   "source": [
    "def check_last(word):\n",
    "    for a in word[ : len(word) - 1]:\n",
    "        if a == word[-1]:\n",
    "            return False\n",
    "    return True\n",
    "\n",
    "print([check_last(w) for w in words])"
   ]
  },
  {
   "cell_type": "code",
   "execution_count": 4,
   "id": "fallen-petroleum",
   "metadata": {},
   "outputs": [],
   "source": [
    "class Trie_node:\n",
    "    def __init__(self, letter = None, parent = None, link = None, depth = 0):\n",
    "        self.children = dict()\n",
    "        self.parent = parent\n",
    "        \n",
    "        self.letter = letter\n",
    "        self.depth = depth \n",
    "        \n",
    "        self.link = link"
   ]
  },
  {
   "cell_type": "code",
   "execution_count": 118,
   "id": "australian-windsor",
   "metadata": {},
   "outputs": [],
   "source": [
    "class Trie_tree:\n",
    "    def __init__(self):\n",
    "        self.root = Trie_node(letter = \"\")\n",
    "    \n",
    "    def validate(self, text):\n",
    "        last = \"$\"\n",
    "        return text if text[-1] == last else text + last\n",
    "    \n",
    "    def add(self, word):\n",
    "        word = self.validate(word)\n",
    "        \n",
    "        for i in range(len(word)):\n",
    "            node = self.root\n",
    "        \n",
    "            for a in word[i:]:\n",
    "                if a not in node.children:\n",
    "                    node.children[a] = Trie_node(letter = a, parent = node, depth = node.depth + 1)\n",
    "\n",
    "                node = node.children[a]    \n",
    "                \n",
    "            self.up_link(node)\n",
    "            \n",
    "    def up_link(self, node):\n",
    "        pass\n",
    "    \n",
    "    \n",
    "    def find(self, word):\n",
    "        node = self.root\n",
    "        \n",
    "        for c in word:\n",
    "            if c not in node.children:\n",
    "                return False\n",
    "            node = node.children[c]\n",
    "        return True\n",
    "    "
   ]
  },
  {
   "cell_type": "code",
   "execution_count": 119,
   "id": "silent-strain",
   "metadata": {},
   "outputs": [],
   "source": [
    "trie = Trie_tree()\n",
    "\n",
    "# for w in words[:]:\n",
    "#     trie.add(w)\n",
    "trie.add(\"abaaba$\")\n",
    "# trie.print()\n"
   ]
  },
  {
   "cell_type": "code",
   "execution_count": 128,
   "id": "extraordinary-layout",
   "metadata": {},
   "outputs": [],
   "source": [
    "class Suffix_node:\n",
    "    def __init__(self, letter = None, parent = None, link = None, depth = 0, suffixStart = -1):\n",
    "        self.children = dict()\n",
    "        self.parent = parent\n",
    "        \n",
    "        self.suffixStart = suffixStart\n",
    "        self.letter = letter\n",
    "        self.depth = depth \n",
    "        \n",
    "        self.link = link"
   ]
  },
  {
   "cell_type": "code",
   "execution_count": 147,
   "id": "outer-cooper",
   "metadata": {},
   "outputs": [],
   "source": [
    "class Suffix_tree:\n",
    "    def __init__(self):\n",
    "        self.root = Suffix_node(letter = \"\")\n",
    "    \n",
    "    def validate(self, text):\n",
    "        last = \"$\"\n",
    "        return text if text[-1] == last else text + last\n",
    "    \n",
    "    def add(self, word):\n",
    "        word = self.validate(word)\n",
    "        \n",
    "        \n",
    "        for i in range(len(word)):\n",
    "            node = self.root\n",
    "            prefix_len = 0\n",
    "            \n",
    "#             j = i\n",
    "#             for a in word[i:]:\n",
    "            print(node)\n",
    "            if prefix_len == node.depth and word[i + prefix_len] in node.children:\n",
    "#                     node.children[a] = Trie_node(letter = a, parent = node, depth = node.depth + 1)\n",
    "                node, prefix_len = self.slowFind(word, i, node, prefix_len)\n",
    "\n",
    "            if node.depth > prefix_len:\n",
    "                node = self.splitNode(word, node, prefix_len)\n",
    "            \n",
    "#                 node = node.children[a]  \n",
    "            self.createLeaf(word, i, node, prefix_len)\n",
    "                \n",
    "#             self.up_link(node)\n",
    "            \n",
    "    def slowFind(self, text, i, node, prefix_len):\n",
    "        while prefix_len == node.depth and text[i + prefix_len] in node.children:\n",
    "            node = node.children[text[i + prefix_len]]\n",
    "            prefix_len += 1\n",
    "            while prefix_len < node.depth and text[i + prefix_len] == text[node.suffixStart + prefix_len]:\n",
    "                prefix_len += 1\n",
    "        return node, prefix_len\n",
    "    \n",
    "    def splitNode(self, text, node, prefix_len):\n",
    "        parent = node.parent\n",
    "        \n",
    "        newNode = Suffix_node(suffixStart=node.suffixStart, depth = prefix_len,\n",
    "                             letter = text[node.suffixStart + parent.depth], parent = parent)\n",
    "        \n",
    "        parent.children[newNode.letter] = newNode\n",
    "        node.parent = newNode\n",
    "        node.letter = text[node.suffixStart + prefix_len]\n",
    "        newNode.children[node.letter] = node\n",
    "        \n",
    "        return newNode\n",
    "    \n",
    "    def createLeaf(self, text, suffixStart, node, prefix_len):\n",
    "        print(\"creating leaf\", node)\n",
    "        leaf = Suffix_node(suffixStart=suffixStart, depth = len(text) - suffixStart,\n",
    "                          letter = text[suffixStart + prefix_len])\n",
    "        leaf.parent = node\n",
    "        node.children[leaf.letter] = leaf\n",
    "        return leaf\n",
    "    \n",
    "    \n",
    "    \n",
    "    def up_link(self, node):\n",
    "        pass\n",
    "    \n",
    "    \n",
    "    def find(self, word):\n",
    "        node = self.root\n",
    "        \n",
    "        for c in word:\n",
    "            if c not in node.children:\n",
    "                return False\n",
    "            node = node.children[c]\n",
    "        return True\n",
    "    "
   ]
  },
  {
   "cell_type": "code",
   "execution_count": 148,
   "id": "palestinian-brass",
   "metadata": {},
   "outputs": [
    {
     "name": "stdout",
     "output_type": "stream",
     "text": [
      "<__main__.Suffix_node object at 0x7f9e23a17a90>\n",
      "creating leaf <__main__.Suffix_node object at 0x7f9e23a17a90>\n",
      "<__main__.Suffix_node object at 0x7f9e23a17a90>\n",
      "creating leaf <__main__.Suffix_node object at 0x7f9e23a17a90>\n",
      "<__main__.Suffix_node object at 0x7f9e23a17a90>\n",
      "creating leaf <__main__.Suffix_node object at 0x7f9e23a32130>\n",
      "<__main__.Suffix_node object at 0x7f9e23a17a90>\n",
      "creating leaf <__main__.Suffix_node object at 0x7f9e23a32fa0>\n",
      "<__main__.Suffix_node object at 0x7f9e23a17a90>\n",
      "creating leaf <__main__.Suffix_node object at 0x7f9e23a322b0>\n",
      "<__main__.Suffix_node object at 0x7f9e23a17a90>\n",
      "creating leaf <__main__.Suffix_node object at 0x7f9e23a32130>\n",
      "<__main__.Suffix_node object at 0x7f9e23a17a90>\n",
      "creating leaf <__main__.Suffix_node object at 0x7f9e23a17a90>\n"
     ]
    }
   ],
   "source": [
    "suffixTree = Suffix_tree()\n",
    "\n",
    "# for w in words[:]:\n",
    "#     trie.add(w)\n",
    "suffixTree.add(\"abaaba$\")\n",
    "# trie.print()"
   ]
  },
  {
   "cell_type": "code",
   "execution_count": 151,
   "id": "weird-desktop",
   "metadata": {},
   "outputs": [
    {
     "data": {
      "image/png": "[encoded data removed]",
      "text/plain": [
       "<Figure size 1080x1080 with 1 Axes>"
      ]
     },
     "metadata": {},
     "output_type": "display_data"
    }
   ],
   "source": [
    "visualize_trie(suffixTree)"
   ]
  },
  {
   "cell_type": "code",
   "execution_count": 124,
   "id": "entire-enterprise",
   "metadata": {},
   "outputs": [],
   "source": [
    "def visualize_trie(trie):\n",
    "    plt.figure(figsize=(15,15))\n",
    "    G = nx.DiGraph()\n",
    "\n",
    "    q = []\n",
    "    q.append(trie.root)\n",
    "    i = 0\n",
    "    while(q):\n",
    "        node = q.pop()\n",
    "        node.index = i\n",
    "        \n",
    "        G.add_node(node.index, letter = node.letter)\n",
    "        \n",
    "        if node.parent is not None:\n",
    "            G.add_edge(node.parent.index, node.index)\n",
    "        i+=1\n",
    "        \n",
    "        for child in node.children.values():\n",
    "            q.append(child)\n",
    "\n",
    "    pos = graphviz_layout(G, prog='dot')\n",
    "    \n",
    "    labels = {u : l['letter'] for u, l in G.nodes(data = True)}\n",
    "    \n",
    "    nx.draw_networkx_edges(G, pos, arrows=True) \n",
    "    nx.draw_networkx_labels(G, pos, labels, font_size = 15)\n",
    "    \n",
    "    plt.show()"
   ]
  },
  {
   "cell_type": "code",
   "execution_count": 125,
   "id": "sought-richards",
   "metadata": {},
   "outputs": [
    {
     "data": {
      "image/png": "[encoded data removed]",
      "text/plain": [
       "<Figure size 1080x1080 with 1 Axes>"
      ]
     },
     "metadata": {},
     "output_type": "display_data"
    }
   ],
   "source": [
    "visualize_trie(trie)"
   ]
  },
  {
   "cell_type": "code",
   "execution_count": 123,
   "id": "least-baghdad",
   "metadata": {},
   "outputs": [
    {
     "data": {
      "text/plain": [
       "False"
      ]
     },
     "execution_count": 123,
     "metadata": {},
     "output_type": "execute_result"
    }
   ],
   "source": [
    "trie.find(\"abb\")"
   ]
  },
  {
   "cell_type": "code",
   "execution_count": null,
   "id": "worse-baghdad",
   "metadata": {},
   "outputs": [],
   "source": []
  },
  {
   "cell_type": "code",
   "execution_count": null,
   "id": "alleged-anthony",
   "metadata": {},
   "outputs": [],
   "source": []
  },
  {
   "cell_type": "code",
   "execution_count": null,
   "id": "protecting-journalism",
   "metadata": {},
   "outputs": [],
   "source": []
  },
  {
   "cell_type": "code",
   "execution_count": null,
   "id": "earned-priority",
   "metadata": {},
   "outputs": [],
   "source": []
  },
  {
   "cell_type": "code",
   "execution_count": null,
   "id": "incorporated-westminster",
   "metadata": {},
   "outputs": [],
   "source": [
    "def build_tree_schema(text):\n",
    "    trie = compute_initial_trie(text)\n",
    "    leaf = trie.leafs()[0]\n",
    "    for i in range(1, len(text)):\n",
    "        suffix = text[i:]\n",
    "        head = trie.find(suffix, leaf)\n",
    "        suffix_end = suffix[head.depth():]        \n",
    "        leaf = head.graft(suffix_end)\n",
    "    return trie"
   ]
  },
  {
   "cell_type": "code",
   "execution_count": null,
   "id": "hairy-bahrain",
   "metadata": {},
   "outputs": [],
   "source": [
    "from queue import LifoQueue as queue\n",
    "\n",
    "def up_link_down(sibling):\n",
    "    letters = queue()\n",
    "    while(sibling and not sibling.link):\n",
    "        letters.put(sibling.letter)\n",
    "        sibling = sibling.parent\n",
    "    if(not sibling):\n",
    "        return (None, None)\n",
    "    node = sibling.link\n",
    "    while(current_letter == letters.get()):\n",
    "        if(node.child(current_letter)):\n",
    "            node = node.child(current_letter)\n",
    "            sibling = sibling.child(current_letter)\n",
    "            sibling.link = node\n",
    "        else:\n",
    "            break\n",
    "    return (node, sibling)"
   ]
  },
  {
   "cell_type": "code",
   "execution_count": null,
   "id": "mineral-authority",
   "metadata": {},
   "outputs": [],
   "source": [
    "def graft(node, text, sibling=None):\n",
    "    for current_letter in list(text):\n",
    "        node = node.create_child(current_letter)\n",
    "        if(sibling):\n",
    "            sibling = sibling.child(current_letter)\n",
    "            sibling.link = node\n",
    "    return node"
   ]
  },
  {
   "cell_type": "code",
   "execution_count": null,
   "id": "spectacular-clone",
   "metadata": {},
   "outputs": [],
   "source": [
    "def left_to_right(text):\n",
    "    root = Node(\"\")\n",
    "    leaf = graft(root, text)\n",
    "    root.children()[0].link = root\n",
    "    for i in range(1, len(text)):\n",
    "        head, sibling = up_link_down(leaf)\n",
    "        if(not head):\n",
    "            sibling = root.child(text[i-1])\n",
    "            sibling.link = root\n",
    "            head = root\n",
    "        graft(head, text[i+head.depth:], sibling)"
   ]
  },
  {
   "cell_type": "code",
   "execution_count": null,
   "id": "pretty-australian",
   "metadata": {},
   "outputs": [],
   "source": [
    "build_tree_schema(pattern)"
   ]
  },
  {
   "cell_type": "code",
   "execution_count": null,
   "id": "virtual-fraction",
   "metadata": {},
   "outputs": [],
   "source": []
  }
 ],
 "metadata": {
  "kernelspec": {
   "display_name": "Python 3",
   "language": "python",
   "name": "python3"
  },
  "language_info": {
   "codemirror_mode": {
    "name": "ipython",
    "version": 3
   },
   "file_extension": ".py",
   "mimetype": "text/x-python",
   "name": "python",
   "nbconvert_exporter": "python",
   "pygments_lexer": "ipython3",
   "version": "3.8.6"
  }
 },
 "nbformat": 4,
 "nbformat_minor": 5
}
