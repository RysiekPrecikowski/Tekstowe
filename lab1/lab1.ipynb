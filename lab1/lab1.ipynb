{
 "cells": [
  {
   "cell_type": "code",
   "execution_count": 1,
   "metadata": {},
   "outputs": [],
   "source": [
    "from time import time\n",
    "import re\n",
    "import string\n",
    "import random"
   ]
  },
  {
   "cell_type": "markdown",
   "metadata": {},
   "source": [
    "algorytm naiwny"
   ]
  },
  {
   "cell_type": "code",
   "execution_count": 2,
   "metadata": {},
   "outputs": [],
   "source": [
    "def naive_string_matching(text, pattern, printt = True):\n",
    "    t = time()\n",
    "    for s in range(0, len(text) - len(pattern) + 1):\n",
    "        if pattern == text[s:s + len(pattern)] and printt:\n",
    "            print(f\"Przesunięcie {s} jest poprawne\")\n",
    "    return time() - t"
   ]
  },
  {
   "cell_type": "markdown",
   "metadata": {},
   "source": [
    "algorytm automatu skończonego"
   ]
  },
  {
   "cell_type": "code",
   "execution_count": 190,
   "metadata": {},
   "outputs": [],
   "source": [
    "def fa_string_matching(text, pattern, printt = True, res = []):\n",
    "    tt = time()\n",
    "    q = 0\n",
    "    delta = transition_table(pattern)\n",
    "\n",
    "    t = time()\n",
    "    \n",
    "    for s in range(len(text)):\n",
    "        q = delta[q].get(text[s], 0) # jesli nie ma znaku w tablicy przejscia to domyslnie wrzuca nam 0\n",
    "\n",
    "        if (q == len(delta) - 1):\n",
    "            if printt:\n",
    "                print(f\"Przesunięcie {s + 1 - q} jest poprawne\")\n",
    "            # s + 1 - ponieważ przeczytaliśmy znak o indeksie s, więc przesunięcie jest po tym znaku\n",
    "            res.append(s+1-q)\n",
    "    return time() - tt, time() - t \n",
    "\n",
    "\n",
    "def check_pattern(pattern, text):\n",
    "    return pattern == text[(len(text) - len(pattern)):]\n",
    "#     print(pattern, text)\n",
    "#     if (len(text) < len(pattern)):\n",
    "#         return False\n",
    "    \n",
    "#     for i in range (len(pattern)):\n",
    "#         if pattern[-i-1] != text[-i-1]:\n",
    "#             return False\n",
    "#     return True\n",
    "\n",
    "\n",
    "def transition_table(pattern):\n",
    "    result = []\n",
    "\n",
    "    alphabet = set(pattern)\n",
    "\n",
    "    for q in range(len(pattern) + 1):\n",
    "        result.append({})\n",
    "        for a in alphabet:\n",
    "            k = min(len(pattern), q + 1)\n",
    "            while True:            \n",
    "#                 if re.search(f\"{pattern[:k]}$\", pattern[:q] + a):\n",
    "#                     break\n",
    "#                 print(\"pattern\", pattern[:k], \"text\", pattern[:q] +a)\n",
    "                \n",
    "                if check_pattern(pattern[:k], pattern[:q] + a):\n",
    "                    break\n",
    "                    \n",
    "                k = k - 1\n",
    "\n",
    "            result[q][a] = k\n",
    "    return result"
   ]
  },
  {
   "cell_type": "code",
   "execution_count": 191,
   "metadata": {},
   "outputs": [],
   "source": [
    "from pprint import pprint"
   ]
  },
  {
   "cell_type": "code",
   "execution_count": 192,
   "metadata": {
    "scrolled": false
   },
   "outputs": [
    {
     "name": "stdout",
     "output_type": "stream",
     "text": [
      "[{'A': 1, 'B': 0, 'C': 0},\n",
      " {'A': 1, 'B': 2, 'C': 0},\n",
      " {'A': 3, 'B': 0, 'C': 0},\n",
      " {'A': 1, 'B': 2, 'C': 4},\n",
      " {'A': 1, 'B': 0, 'C': 0}]\n",
      "0.0004892349243164062\n"
     ]
    }
   ],
   "source": [
    "pattern = \"ABAC\"\n",
    "s = time()\n",
    "pprint(transition_table(pattern))\n",
    "print(time() - s)"
   ]
  },
  {
   "cell_type": "code",
   "execution_count": 175,
   "metadata": {},
   "outputs": [],
   "source": [
    "# pattern = ''.join(random.choice(\"aaaaaaab\") for i in range(500))"
   ]
  },
  {
   "cell_type": "code",
   "execution_count": 181,
   "metadata": {
    "scrolled": false
   },
   "outputs": [
    {
     "name": "stdout",
     "output_type": "stream",
     "text": [
      "0.04096198081970215\n"
     ]
    }
   ],
   "source": [
    "\n",
    "# s = time()\n",
    "# transition_table(pattern)\n",
    "# print(time() - s)"
   ]
  },
  {
   "cell_type": "markdown",
   "metadata": {},
   "source": [
    "algorytm kmp (Knutha-Morrisa-Pratta)"
   ]
  },
  {
   "cell_type": "code",
   "execution_count": 48,
   "metadata": {},
   "outputs": [],
   "source": [
    "def kmp_string_matching(text, pattern, printt = True, res = []):\n",
    "    tt = time()\n",
    "    pi = prefix_function(pattern)\n",
    "    t = time()\n",
    "    q = 0\n",
    "    \n",
    "    for i in range(len(text)):\n",
    "        while q != 0 and pattern[q] != text[i]:\n",
    "            q = pi[q - 1]\n",
    "\n",
    "        if pattern[q] == text[i]:\n",
    "            q = q + 1\n",
    "        if q == len(pattern):\n",
    "            if printt:\n",
    "                print(f\"Przesunięcie {i + 1 - q} jest poprawne\")\n",
    "            res.append(i+1-q)\n",
    "            q = pi[q - 1]\n",
    "    return time() - tt, time() - t\n",
    "\n",
    "def prefix_function(pattern):\n",
    "    pi = [0] * len(pattern)\n",
    "    k = 0\n",
    "    for q in range(1, len(pattern)):\n",
    "        while k != 0 and pattern[k] != pattern[q]:\n",
    "            k = pi[k - 1]\n",
    "\n",
    "        if pattern[k] == pattern[q]:\n",
    "            k = k + 1\n",
    "        pi[q] = k\n",
    "    return pi"
   ]
  },
  {
   "cell_type": "markdown",
   "metadata": {},
   "source": [
    "Porównanie algorytmów"
   ]
  },
  {
   "cell_type": "code",
   "execution_count": 49,
   "metadata": {},
   "outputs": [],
   "source": [
    "def speed_tests(text, pattern):\n",
    "    naive = naive_string_matching(text, pattern, False)\n",
    "    print(\"naive:        \", naive)\n",
    "    print()\n",
    "    print(\"fa\")\n",
    "    fa_total, fa_matching = fa_string_matching(text, pattern, False)\n",
    "    print(\"total:        \", fa_total)\n",
    "    print(\"matching:     \", fa_matching)\n",
    "    print(\"preprocessing:\", fa_total - fa_matching)\n",
    "    fa_pre = fa_total - fa_matching\n",
    "    \n",
    "    print()\n",
    "    print(\"kmp\")\n",
    "    kmp_total, kmp_matching = kmp_string_matching(text, pattern, False)\n",
    "    print(\"total:        \", kmp_total)\n",
    "    print(\"matching:     \", kmp_matching)\n",
    "    print(\"preprocessing:\", kmp_total - kmp_matching)\n",
    "    kmp_pre = kmp_total - kmp_matching\n",
    "    \n",
    "    print()\n",
    "    print(\"naive / fa matching: \", naive / fa_matching)\n",
    "    print(\"naive / kmp matching:\", naive / kmp_matching)\n",
    "    print()\n",
    "    print(\"fa preprocessing / kmp preprocessing:\", fa_pre/kmp_pre)"
   ]
  },
  {
   "cell_type": "code",
   "execution_count": 193,
   "metadata": {},
   "outputs": [],
   "source": [
    "text = open(\"ustawa\", encoding=\"utf8\").read()\n",
    "pattern = \"art\""
   ]
  },
  {
   "cell_type": "code",
   "execution_count": 194,
   "metadata": {},
   "outputs": [
    {
     "name": "stdout",
     "output_type": "stream",
     "text": [
      "True\n"
     ]
    }
   ],
   "source": [
    "kmp, fa = [], []\n",
    "kmp_string_matching(text, pattern, False, kmp)\n",
    "fa_string_matching(text, pattern, False, fa)\n",
    "\n",
    "print(kmp == fa)"
   ]
  },
  {
   "cell_type": "code",
   "execution_count": 195,
   "metadata": {},
   "outputs": [
    {
     "name": "stdout",
     "output_type": "stream",
     "text": [
      "naive:         0.03812885284423828\n",
      "\n",
      "fa\n",
      "total:         0.03319287300109863\n",
      "matching:      0.03316783905029297\n",
      "preprocessing: 2.5033950805664062e-05\n",
      "\n",
      "kmp\n",
      "total:         0.024707317352294922\n",
      "matching:      0.0247039794921875\n",
      "preprocessing: 3.337860107421875e-06\n",
      "\n",
      "naive / fa matching:  1.1495730182006383\n",
      "naive / kmp matching: 1.543429586164299\n",
      "\n",
      "fa preprocessing / kmp preprocessing: 7.5\n"
     ]
    }
   ],
   "source": [
    "speed_tests(text, pattern)"
   ]
  },
  {
   "cell_type": "code",
   "execution_count": 196,
   "metadata": {
    "scrolled": false
   },
   "outputs": [
    {
     "name": "stdout",
     "output_type": "stream",
     "text": [
      "naive:         1.1920928955078125e-05\n",
      "\n",
      "fa\n",
      "total:         0.0005171298980712891\n",
      "matching:      1.239776611328125e-05\n",
      "preprocessing: 0.0005047321319580078\n",
      "\n",
      "kmp\n",
      "total:         2.5510787963867188e-05\n",
      "matching:      1.9073486328125e-05\n",
      "preprocessing: 6.4373016357421875e-06\n",
      "\n",
      "naive / fa matching:  0.9615384615384616\n",
      "naive / kmp matching: 0.625\n",
      "\n",
      "fa preprocessing / kmp preprocessing: 78.4074074074074\n"
     ]
    }
   ],
   "source": [
    "text = \"a\"*100\n",
    "pattern = \"aaaaaaabcdeaaaaaaafg\"\n",
    "# print(text, pattern)\n",
    "speed_tests(text, pattern)"
   ]
  },
  {
   "cell_type": "code",
   "execution_count": 197,
   "metadata": {
    "scrolled": false
   },
   "outputs": [
    {
     "name": "stdout",
     "output_type": "stream",
     "text": [
      "naive:         0.023135900497436523\n",
      "\n",
      "fa\n",
      "total:         0.01816868782043457\n",
      "matching:      0.015487909317016602\n",
      "preprocessing: 0.0026807785034179688\n",
      "\n",
      "kmp\n",
      "total:         0.012453079223632812\n",
      "matching:      0.012074947357177734\n",
      "preprocessing: 0.0003781318664550781\n",
      "\n",
      "naive / fa matching:  1.4938039746925078\n",
      "naive / kmp matching: 1.9160249575484738\n",
      "\n",
      "fa preprocessing / kmp preprocessing: 7.0895334174022695\n"
     ]
    }
   ],
   "source": [
    "text = ''.join(random.choice(\"0123456789\") for i in range(100000))\n",
    "# pattern = ''.join(random.choice(\"aaaaaaab\") for i in range(10))\n",
    "# text = \"aaaaaabcccc\"*1000000\n",
    "pattern = ''.join([str(i) for i in range(100)])\n",
    "# print(len(pattern))\n",
    "# print(pattern)\n",
    "\n",
    "# print()\n",
    "# print(text)\n",
    "n = 3000\n",
    "pattern = \"a\" * (2*n)\n",
    "pattern = \"a\" *n\n",
    "speed_tests(text, pattern)"
   ]
  },
  {
   "cell_type": "code",
   "execution_count": null,
   "metadata": {},
   "outputs": [],
   "source": []
  },
  {
   "cell_type": "code",
   "execution_count": null,
   "metadata": {},
   "outputs": [],
   "source": []
  },
  {
   "cell_type": "code",
   "execution_count": null,
   "metadata": {},
   "outputs": [],
   "source": []
  },
  {
   "cell_type": "code",
   "execution_count": null,
   "metadata": {},
   "outputs": [],
   "source": []
  },
  {
   "cell_type": "code",
   "execution_count": null,
   "metadata": {},
   "outputs": [],
   "source": []
  },
  {
   "cell_type": "code",
   "execution_count": null,
   "metadata": {},
   "outputs": [],
   "source": []
  },
  {
   "cell_type": "code",
   "execution_count": null,
   "metadata": {},
   "outputs": [],
   "source": []
  }
 ],
 "metadata": {
  "kernelspec": {
   "display_name": "Python 3",
   "language": "python",
   "name": "python3"
  },
  "language_info": {
   "codemirror_mode": {
    "name": "ipython",
    "version": 3
   },
   "file_extension": ".py",
   "mimetype": "text/x-python",
   "name": "python",
   "nbconvert_exporter": "python",
   "pygments_lexer": "ipython3",
   "version": "3.8.6"
  }
 },
 "nbformat": 4,
 "nbformat_minor": 4
}