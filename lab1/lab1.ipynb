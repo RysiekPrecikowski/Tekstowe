{
 "cells": [
  {
   "cell_type": "code",
   "execution_count": 1,
   "metadata": {},
   "outputs": [],
   "source": [
    "from time import time\n",
    "import re\n",
    "import string\n",
    "import random"
   ]
  },
  {
   "cell_type": "markdown",
   "metadata": {},
   "source": [
    "algorytm naiwny"
   ]
  },
  {
   "cell_type": "code",
   "execution_count": 2,
   "metadata": {},
   "outputs": [],
   "source": [
    "def naive_string_matching(text, pattern, printt = True):\n",
    "    t = time()\n",
    "    for s in range(0, len(text) - len(pattern) + 1):\n",
    "        if pattern == text[s:s + len(pattern)] and printt:\n",
    "            print(f\"Przesunięcie {s} jest poprawne\")\n",
    "    return time() - t"
   ]
  },
  {
   "cell_type": "markdown",
   "metadata": {},
   "source": [
    "algorytm automatu skończonego"
   ]
  },
  {
   "cell_type": "code",
   "execution_count": 3,
   "metadata": {},
   "outputs": [],
   "source": [
    "def fa_string_matching(text, pattern, printt = True):\n",
    "    tt = time()\n",
    "    q = 0\n",
    "    delta = transition_table(pattern)\n",
    "\n",
    "    t = time()\n",
    "    \n",
    "    for s in range(0, len(text)):\n",
    "        q = delta[q].get(text[s], 0) # jesli nie ma znaku w tablicy przejscia to domyslnie wrzuca nam 0\n",
    "\n",
    "        if (q == len(delta) - 1) and printt:\n",
    "            print(f\"Przesunięcie {s + 1 - q} jest poprawne\")\n",
    "            # s + 1 - ponieważ przeczytaliśmy znak o indeksie s, więc przesunięcie jest po tym znaku\n",
    "    return time() - tt, time() - t \n",
    "\n",
    "def transition_table(pattern):\n",
    "    result = []\n",
    "\n",
    "    alphabet = set(pattern)\n",
    "\n",
    "    for q in range(0, len(pattern) + 1):\n",
    "        result.append({})\n",
    "        for a in alphabet:\n",
    "            k = min(len(pattern) + 1, q + 2)\n",
    "            while True:\n",
    "                k = k - 1\n",
    "                if re.search(f\"{pattern[:k]}$\", pattern[:q] + a):\n",
    "                    break\n",
    "            result[q][a] = k\n",
    "    return result"
   ]
  },
  {
   "cell_type": "markdown",
   "metadata": {},
   "source": [
    "algorytm kmp (Knutha-Morrisa-Pratta)"
   ]
  },
  {
   "cell_type": "code",
   "execution_count": 4,
   "metadata": {},
   "outputs": [],
   "source": [
    "def kmp_string_matching(text, pattern, printt = True):\n",
    "    tt = time()\n",
    "    pi = prefix_function(pattern)\n",
    "    t = time()\n",
    "    q = 0\n",
    "    for i in range(0, len(text)):\n",
    "        while q != 0 and pattern[q] != text[i]:\n",
    "            q = pi[q - 1]\n",
    "\n",
    "        if pattern[q] == text[i]:\n",
    "            q = q + 1\n",
    "        if q == len(pattern):\n",
    "            if printt:\n",
    "                print(f\"Przesunięcie {i + 1 - q} jest poprawne\")\n",
    "            q = pi[q - 1]\n",
    "    return time() - tt, time() - t\n",
    "\n",
    "def prefix_function(pattern):\n",
    "    pi = [0] * len(pattern)\n",
    "    k = 0\n",
    "    for q in range(1, len(pattern)):\n",
    "        while k != 0 and pattern[k] != pattern[q]:\n",
    "            k = pi[k - 1]\n",
    "\n",
    "        if pattern[k] == pattern[q]:\n",
    "            k = k + 1\n",
    "        pi[q] = k\n",
    "    return pi"
   ]
  },
  {
   "cell_type": "markdown",
   "metadata": {},
   "source": [
    "Porównanie algorytmów"
   ]
  },
  {
   "cell_type": "code",
   "execution_count": 5,
   "metadata": {},
   "outputs": [],
   "source": [
    "def speed_tests(text, pattern):\n",
    "    print(\"naive:\",naive_string_matching(text, pattern, False))\n",
    "    print(\"fa\")\n",
    "    total, matching = fa_string_matching(text, pattern, False)\n",
    "    print(\"total\", total)\n",
    "    print(\"matching:\", matching)\n",
    "    \n",
    "    print(\"kmp\")\n",
    "    total, matching = kmp_string_matching(text, pattern, False)\n",
    "    print(\"total\", total)\n",
    "    print(\"matching:\", matching)"
   ]
  },
  {
   "cell_type": "code",
   "execution_count": 6,
   "metadata": {},
   "outputs": [],
   "source": [
    "text = open(\"ustawa\", encoding=\"utf8\").read()\n",
    "pattern = \"art\""
   ]
  },
  {
   "cell_type": "code",
   "execution_count": 7,
   "metadata": {},
   "outputs": [
    {
     "name": "stdout",
     "output_type": "stream",
     "text": [
      "naive: 0.050272226333618164\n",
      "fa\n",
      "total 0.047126054763793945\n",
      "matching: 0.047126054763793945\n",
      "kmp\n",
      "total 0.039957284927368164\n",
      "matching: 0.039957284927368164\n"
     ]
    }
   ],
   "source": [
    "speed_tests(text, pattern)"
   ]
  },
  {
   "cell_type": "code",
   "execution_count": 8,
   "metadata": {},
   "outputs": [],
   "source": [
    "#text = open(\"wiki.txt\", encoding=\"utf8\").read()\n",
    "#pattern = \"kruszwil\""
   ]
  },
  {
   "cell_type": "code",
   "execution_count": 9,
   "metadata": {},
   "outputs": [],
   "source": [
    "#speed_tests(text, pattern)"
   ]
  },
  {
   "cell_type": "code",
   "execution_count": null,
   "metadata": {},
   "outputs": [
    {
     "name": "stdout",
     "output_type": "stream",
     "text": [
      "naive: 0.4456470012664795\n",
      "fa\n"
     ]
    }
   ],
   "source": [
    "text = ''.join(random.choice(\"abc\") for i in range(1000000))\n",
    "pattern = ''.join(random.choice(\"abc\") for i in range(10000))\n",
    "# print(text, pattern)\n",
    "speed_tests(text, pattern)"
   ]
  },
  {
   "cell_type": "code",
   "execution_count": null,
   "metadata": {},
   "outputs": [],
   "source": []
  }
 ],
 "metadata": {
  "kernelspec": {
   "display_name": "Python 3",
   "language": "python",
   "name": "python3"
  },
  "language_info": {
   "codemirror_mode": {
    "name": "ipython",
    "version": 3
   },
   "file_extension": ".py",
   "mimetype": "text/x-python",
   "name": "python",
   "nbconvert_exporter": "python",
   "pygments_lexer": "ipython3",
   "version": "3.8.3"
  }
 },
 "nbformat": 4,
 "nbformat_minor": 4
}
