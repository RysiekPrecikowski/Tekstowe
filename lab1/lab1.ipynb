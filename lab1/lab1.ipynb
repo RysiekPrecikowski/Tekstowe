{
 "cells": [
  {
   "cell_type": "code",
   "execution_count": 1,
   "metadata": {},
   "outputs": [],
   "source": [
    "from time import time\n",
    "import string\n",
    "import random\n",
    "from pprint import pprint"
   ]
  },
  {
   "cell_type": "markdown",
   "metadata": {},
   "source": [
    "# Algorytm naiwny \n",
    "### złożoność $O(m \\cdot(n-m+1))$"
   ]
  },
  {
   "cell_type": "code",
   "execution_count": 2,
   "metadata": {},
   "outputs": [],
   "source": [
    "def naive_string_matching(text, pattern, printt = True):\n",
    "    t = time()\n",
    "    for s in range(0, len(text) - len(pattern) + 1):\n",
    "        if pattern == text[s:s + len(pattern)] and printt:\n",
    "            print(f\"Przesunięcie {s} jest poprawne\")\n",
    "    return time() - t"
   ]
  },
  {
   "cell_type": "markdown",
   "metadata": {},
   "source": [
    "# Algorytm automatu skończonego "
   ]
  },
  {
   "cell_type": "markdown",
   "metadata": {},
   "source": [
    "### złożoność dopasowania $O(n)$"
   ]
  },
  {
   "cell_type": "code",
   "execution_count": 3,
   "metadata": {},
   "outputs": [],
   "source": [
    "def fa_string_matching(text, pattern, printt = True, res = []):\n",
    "    tt = time()\n",
    "    q = 0\n",
    "    delta = transition_table(pattern)\n",
    "\n",
    "    t = time()\n",
    "    \n",
    "    for s in range(len(text)):\n",
    "        q = delta[q].get(text[s], 0) # jesli nie ma znaku w tablicy przejscia \n",
    "                                        # to domyslnie wrzuca 0\n",
    "\n",
    "        if (q == len(delta) - 1):\n",
    "            if printt:\n",
    "                print(f\"Przesunięcie {s + 1 - q} jest poprawne\")\n",
    "            # s + 1 - ponieważ przeczytaliśmy znak o indeksie s, \n",
    "                # więc przesunięcie jest po tym znaku\n",
    "            res.append(s+1-q)\n",
    "    return time() - tt, time() - t "
   ]
  },
  {
   "cell_type": "markdown",
   "metadata": {},
   "source": [
    "### złożoność obliczenia tablicy przejścia $ O(m^3 \\cdot |\\sum|) $, gdzie $|\\sum|$ oznacza wielkość alfabetu"
   ]
  },
  {
   "cell_type": "code",
   "execution_count": 4,
   "metadata": {},
   "outputs": [],
   "source": [
    "def check_pattern(pattern, text):\n",
    "    return pattern == text[(len(text) - len(pattern)):]\n",
    "\n",
    "def transition_table(pattern):\n",
    "    result = []\n",
    "\n",
    "    alphabet = set(pattern)\n",
    "\n",
    "    for q in range(len(pattern) + 1):\n",
    "        result.append({})\n",
    "        for a in alphabet:\n",
    "            k = min(len(pattern), q + 1)\n",
    "            while not check_pattern(pattern[:k], pattern[:q] + a):            \n",
    "                k = k - 1\n",
    "\n",
    "            result[q][a] = k\n",
    "    return result"
   ]
  },
  {
   "cell_type": "code",
   "execution_count": 5,
   "metadata": {
    "scrolled": false
   },
   "outputs": [
    {
     "name": "stdout",
     "output_type": "stream",
     "text": [
      "[{'A': 1, 'B': 0, 'C': 0},\n",
      " {'A': 1, 'B': 2, 'C': 0},\n",
      " {'A': 3, 'B': 0, 'C': 0},\n",
      " {'A': 1, 'B': 2, 'C': 4},\n",
      " {'A': 1, 'B': 0, 'C': 0}]\n",
      "time: 0.0014908313751220703\n"
     ]
    }
   ],
   "source": [
    "pattern = \"ABAC\"\n",
    "s = time()\n",
    "pprint(transition_table(pattern))\n",
    "print(\"time:\",time() - s)"
   ]
  },
  {
   "cell_type": "markdown",
   "metadata": {},
   "source": [
    "# Algorytm kmp (Knutha-Morrisa-Pratta)"
   ]
  },
  {
   "cell_type": "markdown",
   "metadata": {},
   "source": [
    "### złożoność dopasowania $O(n)$"
   ]
  },
  {
   "cell_type": "code",
   "execution_count": 6,
   "metadata": {},
   "outputs": [],
   "source": [
    "def kmp_string_matching(text, pattern, printt = True, res = []):\n",
    "    tt = time()\n",
    "    pi = prefix_function(pattern)\n",
    "    t = time()\n",
    "    q = 0\n",
    "    \n",
    "    for i in range(len(text)):\n",
    "        while q != 0 and pattern[q] != text[i]:\n",
    "            q = pi[q - 1]\n",
    "\n",
    "        if pattern[q] == text[i]:\n",
    "            q = q + 1\n",
    "        if q == len(pattern):\n",
    "            if printt:\n",
    "                print(f\"Przesunięcie {i + 1 - q} jest poprawne\")\n",
    "            res.append(i+1-q)\n",
    "            q = pi[q - 1]\n",
    "    return time() - tt, time() - t"
   ]
  },
  {
   "cell_type": "markdown",
   "metadata": {},
   "source": [
    "### złożoność obliczania funkcji przejścia $O(m)$"
   ]
  },
  {
   "cell_type": "code",
   "execution_count": 7,
   "metadata": {},
   "outputs": [],
   "source": [
    "def prefix_function(pattern):\n",
    "    pi = [0] * len(pattern)\n",
    "    k = 0\n",
    "    for q in range(1, len(pattern)):\n",
    "        while k != 0 and pattern[k] != pattern[q]:\n",
    "            k = pi[k - 1]\n",
    "\n",
    "        if pattern[k] == pattern[q]:\n",
    "            k = k + 1\n",
    "        pi[q] = k\n",
    "    return pi"
   ]
  },
  {
   "cell_type": "markdown",
   "metadata": {},
   "source": [
    "# Porównanie algorytmów"
   ]
  },
  {
   "cell_type": "code",
   "execution_count": 8,
   "metadata": {},
   "outputs": [],
   "source": [
    "def speed_tests(text, pattern):\n",
    "    naive = naive_string_matching(text, pattern, False)\n",
    "    print(\"naive:        \", naive)\n",
    "    print()\n",
    "    print(\"fa\")\n",
    "    fa_total, fa_matching = fa_string_matching(text, pattern, False)\n",
    "    print(\"total:        \", fa_total)\n",
    "    print(\"matching:     \", fa_matching)\n",
    "    print(\"preprocessing:\", fa_total - fa_matching)\n",
    "    fa_pre = fa_total - fa_matching\n",
    "    \n",
    "    print()\n",
    "    print(\"kmp\")\n",
    "    kmp_total, kmp_matching = kmp_string_matching(text, pattern, False)\n",
    "    print(\"total:        \", kmp_total)\n",
    "    print(\"matching:     \", kmp_matching)\n",
    "    print(\"preprocessing:\", kmp_total - kmp_matching)\n",
    "    kmp_pre = kmp_total - kmp_matching\n",
    "    \n",
    "    print()\n",
    "    print(\"naive / fa matching: \", \n",
    "          (naive / fa_matching) if fa_matching != 0 else float(\"inf\"))\n",
    "    print(\"naive / kmp matching:\", \n",
    "          (naive / kmp_matching) if kmp_matching != 0 else float(\"inf\"))\n",
    "    print()\n",
    "    print(\"fa preprocessing / kmp preprocessing:\", \n",
    "          (fa_pre/kmp_pre) if kmp_pre != 0 else float(\"inf\"))"
   ]
  },
  {
   "cell_type": "markdown",
   "metadata": {},
   "source": [
    "## Przykładowy tekst ustawy, w którym szukamy wzorca \"art\""
   ]
  },
  {
   "cell_type": "code",
   "execution_count": 9,
   "metadata": {},
   "outputs": [],
   "source": [
    "text = open(\"ustawa\", encoding=\"utf8\").read()\n",
    "pattern = \"art\""
   ]
  },
  {
   "cell_type": "markdown",
   "metadata": {},
   "source": [
    "## Porównanie prędkości algorytmów dla ustawy"
   ]
  },
  {
   "cell_type": "code",
   "execution_count": 10,
   "metadata": {},
   "outputs": [
    {
     "name": "stdout",
     "output_type": "stream",
     "text": [
      "naive:         0.037450313568115234\n",
      "\n",
      "fa\n",
      "total:         0.0326838493347168\n",
      "matching:      0.03266000747680664\n",
      "preprocessing: 2.384185791015625e-05\n",
      "\n",
      "kmp\n",
      "total:         0.02471637725830078\n",
      "matching:      0.024712324142456055\n",
      "preprocessing: 4.0531158447265625e-06\n",
      "\n",
      "naive / fa matching:  1.1466719226782298\n",
      "naive / kmp matching: 1.515450888076333\n",
      "\n",
      "fa preprocessing / kmp preprocessing: 5.882352941176471\n"
     ]
    }
   ],
   "source": [
    "speed_tests(text, pattern)"
   ]
  },
  {
   "cell_type": "markdown",
   "metadata": {},
   "source": [
    "### Przypadek, gdy prędkości dopasowania algorytmów liniowych są przynajmniej 5 razy krótsze niż dla algorytmu naiwnego"
   ]
  },
  {
   "cell_type": "code",
   "execution_count": 11,
   "metadata": {
    "scrolled": false
   },
   "outputs": [
    {
     "name": "stdout",
     "output_type": "stream",
     "text": [
      "naive:         1.7829809188842773\n",
      "\n",
      "fa\n",
      "total:         0.5489776134490967\n",
      "matching:      0.37734246253967285\n",
      "preprocessing: 0.17163515090942383\n",
      "\n",
      "kmp\n",
      "total:         0.37167787551879883\n",
      "matching:      0.3649747371673584\n",
      "preprocessing: 0.00670313835144043\n",
      "\n",
      "naive / fa matching:  4.725100130221414\n",
      "naive / kmp matching: 4.885217351541499\n",
      "\n",
      "fa preprocessing / kmp preprocessing: 25.605192957495998\n"
     ]
    }
   ],
   "source": [
    "text = \"a\"*1000000\n",
    "pattern = \"a\"*50000\n",
    "speed_tests(text, pattern)"
   ]
  },
  {
   "cell_type": "markdown",
   "metadata": {},
   "source": [
    "### Skrajnie niekorzystny przypadek dla algorytmu automatu skończonego, czas preprocessingu jest skrajnie długi."
   ]
  },
  {
   "cell_type": "code",
   "execution_count": 12,
   "metadata": {
    "scrolled": false
   },
   "outputs": [
    {
     "name": "stdout",
     "output_type": "stream",
     "text": [
      "dlugosc wzorca: 1390 \n",
      "\n",
      "naive:         0.021320819854736328\n",
      "\n",
      "fa\n",
      "total:         3.577767848968506\n",
      "matching:      0.014858484268188477\n",
      "preprocessing: 3.5629093647003174\n",
      "\n",
      "kmp\n",
      "total:         0.014928579330444336\n",
      "matching:      0.01482701301574707\n",
      "preprocessing: 0.00010156631469726562\n",
      "\n",
      "naive / fa matching:  1.4349256269957158\n",
      "naive / kmp matching: 1.437971345414784\n",
      "\n",
      "fa preprocessing / kmp preprocessing: 35079.63615023474\n"
     ]
    }
   ],
   "source": [
    "text = ''.join(random.choice(\"0123456789\") for i in range(100000))\n",
    "pattern = ''.join([str(i) for i in range(500)])\n",
    "\n",
    "print(\"dlugosc wzorca:\",len(pattern),\"\\n\")\n",
    "speed_tests(text, pattern)"
   ]
  },
  {
   "cell_type": "markdown",
   "metadata": {},
   "source": [
    "### Przypadek gdy algorytm naiwny jest najszybszy"
   ]
  },
  {
   "cell_type": "code",
   "execution_count": 13,
   "metadata": {},
   "outputs": [
    {
     "name": "stdout",
     "output_type": "stream",
     "text": [
      "naive:         1.4546284675598145\n",
      "\n",
      "fa\n",
      "total:         1.7159547805786133\n",
      "matching:      1.6516203880310059\n",
      "preprocessing: 0.06433439254760742\n",
      "\n",
      "kmp\n",
      "total:         2.290165662765503\n",
      "matching:      2.290133237838745\n",
      "preprocessing: 3.24249267578125e-05\n",
      "\n",
      "naive / fa matching:  0.8807280886705224\n",
      "naive / kmp matching: 0.6351719819291314\n",
      "\n",
      "fa preprocessing / kmp preprocessing: 1984.1029411764705\n"
     ]
    }
   ],
   "source": [
    "text = \"a\" *10000000\n",
    "pattern = \"aaaaaaaabcdeeeeaaaaaaaaaafg\"*10\n",
    "speed_tests(text, pattern)"
   ]
  }
 ],
 "metadata": {
  "kernelspec": {
   "display_name": "Python 3",
   "language": "python",
   "name": "python3"
  },
  "language_info": {
   "codemirror_mode": {
    "name": "ipython",
    "version": 3
   },
   "file_extension": ".py",
   "mimetype": "text/x-python",
   "name": "python",
   "nbconvert_exporter": "python",
   "pygments_lexer": "ipython3",
   "version": "3.9.0"
  }
 },
 "nbformat": 4,
 "nbformat_minor": 4
}